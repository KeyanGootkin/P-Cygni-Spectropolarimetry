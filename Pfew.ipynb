{
 "cells": [
  {
   "cell_type": "code",
   "execution_count": 7,
   "metadata": {},
   "outputs": [],
   "source": [
    "import pandas as pd\n",
    "import numpy as np\n",
    "import P_Cyg as pc\n",
    "import matplotlib.pyplot as plt\n",
    "from glob import glob"
   ]
  },
  {
   "cell_type": "code",
   "execution_count": 8,
   "metadata": {},
   "outputs": [],
   "source": [
    "intrinsic_dir = \"C:/Users/Keyan/Desktop/Science/Data/P-Cygni/Data/intrinsic_pols/\"\n",
    "files = glob(intrinsic_dir+\"*\")\n",
    "retfiles = [f    for f in files if f[72]=='o']\n",
    "rfiles = [f    for f in files if f[72]=='r']\n",
    "dfs = [pd.read_csv(f)    for f in retfiles] + [pd.read_csv(f)    for f in rfiles]"
   ]
  },
  {
   "cell_type": "markdown",
   "metadata": {},
   "source": [
    "##### Left Region: 6400-6475\n",
    "##### Right Region: 6750-6800\n",
    "##### Line Core: 6540-6600"
   ]
  },
  {
   "cell_type": "code",
   "execution_count": 9,
   "metadata": {},
   "outputs": [],
   "source": [
    "def pfew_line_fit(w,pflux):\n",
    "    lmask = np.where((w > 6400) & (w < 6475))\n",
    "    rmask = np.where((w > 6750) & (w < 6800))\n",
    "    left_point = pflux[lmask].mean()\n",
    "    right_point = pflux[rmask].mean()\n",
    "    rise = right_point - left_point\n",
    "    run = 337.7\n",
    "    m = rise/run\n",
    "    funct = lambda x: m*(x-6437.5)+left_point\n",
    "    return funct\n",
    "\n",
    "def pfew_halpha(w,pol,flux):\n",
    "    pflux = pol*flux\n",
    "    continuum = pfew_line_fit(w,pflux)\n",
    "    subbed = pflux - continuum(w)\n",
    "    hmask = np.where((w>6540) & (w<6600))\n",
    "    pol = subbed[hmask]/flux[hmask]\n",
    "    hpol = np.mean(pol,axis=0)\n",
    "    return hpol\n",
    "\n",
    "def pfew(dfs):\n",
    "    qs = [pfew_halpha(df.Wavelength.values,df.Q.values,df.Flux.values)    for df in dfs]\n",
    "    us = [pfew_halpha(df.Wavelength.values,df.U.values,df.Flux.values)    for df in dfs]\n",
    "    pol, pos = pc.polarization(qs,us)\n",
    "    return qs,us,pol,pos"
   ]
  },
  {
   "cell_type": "code",
   "execution_count": 12,
   "metadata": {},
   "outputs": [
    {
     "data": {
      "text/plain": [
       "array([0.05048038, 0.10726859, 0.09239498, 0.07241066, 0.07005968,\n",
       "       0.06374047, 0.11082088, 0.05111545, 0.08088532, 0.09050178,\n",
       "       0.06520082, 0.02047849, 0.03001124, 0.04432917, 0.03586629,\n",
       "       0.08965216, 0.10594444, 0.19414752, 0.05343118, 0.08345871,\n",
       "       0.10758945, 0.02294994, 0.04825988, 0.04863797, 0.09471742,\n",
       "       0.08689792, 0.00333404, 0.04416868, 0.11956841, 0.08228462,\n",
       "       0.04716602, 0.00996747, 0.04930923, 0.04547322, 0.0556326 ,\n",
       "       0.07610698, 0.08076529, 0.06959094, 0.1651154 , 0.29316818,\n",
       "       0.10911983, 0.09600574, 0.05737873, 0.08287616, 0.08895361,\n",
       "       0.03658677, 0.03776205, 0.02135713, 0.04512716, 0.02483952,\n",
       "       0.03367881, 0.00801492, 0.05183395, 0.0267252 , 0.0355036 ,\n",
       "       0.01977971, 0.03544381, 0.02706194, 0.03243978, 0.0468985 ,\n",
       "       0.03130536, 0.03878203, 0.05117353, 0.02010657, 0.02842948,\n",
       "       0.06774179, 0.04373869, 0.09968631, 0.07136065, 0.04459904,\n",
       "       0.02294532, 0.03268073, 0.09370529, 0.08308542, 0.05867295,\n",
       "       0.08797996])"
      ]
     },
     "execution_count": 12,
     "metadata": {},
     "output_type": "execute_result"
    }
   ],
   "source": [
    "qs,us,pol,pos = pfew(dfs)\n",
    "pol"
   ]
  },
  {
   "cell_type": "code",
   "execution_count": 11,
   "metadata": {},
   "outputs": [
    {
     "data": {
      "text/plain": [
       "<matplotlib.collections.PathCollection at 0x2d456cf5c50>"
      ]
     },
     "execution_count": 11,
     "metadata": {},
     "output_type": "execute_result"
    },
    {
     "data": {
      "image/png": "[encoded data removed]",
      "text/plain": [
       "<Figure size 720x720 with 1 Axes>"
      ]
     },
     "metadata": {},
     "output_type": "display_data"
    }
   ],
   "source": [
    "fig,ax = plt.subplots(1,figsize=(10,10))\n",
    "ax.set_aspect('equal')\n",
    "ax.scatter(qs,us)"
   ]
  },
  {
   "cell_type": "code",
   "execution_count": null,
   "metadata": {},
   "outputs": [],
   "source": []
  },
  {
   "cell_type": "code",
   "execution_count": null,
   "metadata": {},
   "outputs": [],
   "source": []
  },
  {
   "cell_type": "code",
   "execution_count": null,
   "metadata": {},
   "outputs": [],
   "source": []
  }
 ],
 "metadata": {
  "kernelspec": {
   "display_name": "Python 3",
   "language": "python",
   "name": "python3"
  },
  "language_info": {
   "codemirror_mode": {
    "name": "ipython",
    "version": 3
   },
   "file_extension": ".py",
   "mimetype": "text/x-python",
   "name": "python",
   "nbconvert_exporter": "python",
   "pygments_lexer": "ipython3",
   "version": "3.6.5"
  }
 },
 "nbformat": 4,
 "nbformat_minor": 2
}
