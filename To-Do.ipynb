{
 "cells": [
  {
   "cell_type": "markdown",
   "metadata": {},
   "source": [
    "# P Cygni Notes"
   ]
  },
  {
   "cell_type": "markdown",
   "metadata": {},
   "source": [
    "## To Do\n",
    "* Figure out how to make Machine readable tables for ApJ\n",
    "    - put big table in https://authortools.aas.org/MRT/upload.html\n",
    "* Rerun data and deal with changes"
   ]
  },
  {
   "cell_type": "markdown",
   "metadata": {},
   "source": [
    "### Periodicity Notes"
   ]
  },
  {
   "cell_type": "markdown",
   "metadata": {},
   "source": [
    "##### int H\n",
    "* (22.65 - 0.001)\n",
    "* (97.24 - 0.007)\n",
    "* (6.905 - 0.004)\n",
    "* (16.21 - 0.00737)\n",
    "\n",
    "##### obs H\n",
    "* (13.15 - 0.0013)\n",
    "* (11.49 - 0.00472)\n",
    "* (7.695 - 0.0087)\n",
    "* (8.552 - 0.00917)\n",
    "\n",
    "##### pfew continuum\n",
    "* (6.90  - 0.000043)\n",
    "* (97.25 - 0.000336) \n",
    "* (2.055 - 0.000921)\n",
    "* (26.36 - 0.000903)\n",
    "\n",
    "##### pfew ew q\n",
    "* (89.04 - 0.00155)\n",
    "* (2.17  - 0.00943)\n",
    "* (81.11 - 0.00184)\n",
    "* (8.473 - 0.00768)\n",
    "\n",
    "##### pfew ew u\n",
    "* (10.31 - 0.000151)\n",
    "* (4.572 - 0.000589)\n",
    "* (2.662 - 0.00122)\n",
    "\n",
    "##### pfew ew I\n",
    "* (345.3 - 0.00293 - this is about what I got when I did the lomb scargle on the errors\n",
    "\n",
    "##### int V\n",
    "* (2.492 - 0.000175)\n",
    "* (23.85 - 0.000188)\n",
    "* (4.386 - 0.000617)\n",
    "* (3.289 - 0.00140)\n",
    "* (28.79 - 0.00141)\n",
    "\n",
    "##### obs V\n",
    "* (2.155 - 0.00181)\n",
    "* (10.42 - 0.00423)"
   ]
  },
  {
   "cell_type": "code",
   "execution_count": 7,
   "metadata": {},
   "outputs": [],
   "source": [
    "import numpy as np\n",
    "import pandas as pd\n",
    "bs = np.array([[22.65,0.001],\n",
    "[97.24,0.007],\n",
    "[6.905,0.004],\n",
    "[16.21,0.00737],\n",
    "[13.15,0.0013],\n",
    "[11.49,0.00472],\n",
    "[7.695,0.0087],\n",
    "[8.552,0.00917],\n",
    "[6.90,0.000043],\n",
    "[97.25,0.000336],\n",
    "[2.055,0.000921],\n",
    "[26.36,0.000903],\n",
    "[89.04,0.00155],\n",
    "[2.17,0.00943],\n",
    "[81.11,0.00184],\n",
    "[8.473,0.00768],\n",
    "[10.31,0.000151],\n",
    "[4.572,0.000589],\n",
    "[2.662,0.00122],\n",
    "[2.492,0.000175],\n",
    "[23.85,0.000188],\n",
    "[4.386,0.000617],\n",
    "[3.289,0.00140],\n",
    "[28.79,0.00141],\n",
    "[2.155,0.00181],\n",
    "[10.42,0.00423]]).T"
   ]
  },
  {
   "cell_type": "code",
   "execution_count": 12,
   "metadata": {},
   "outputs": [
    {
     "name": "stdout",
     "output_type": "stream",
     "text": [
      "\\begin{tabular}{rr}\n",
      "\\toprule\n",
      " Period &  False Alarm Probability \\\\\n",
      "\\midrule\n",
      " 22.650 &                 0.001000 \\\\\n",
      " 97.240 &                 0.007000 \\\\\n",
      "  6.905 &                 0.004000 \\\\\n",
      " 16.210 &                 0.007370 \\\\\n",
      " 13.150 &                 0.001300 \\\\\n",
      " 11.490 &                 0.004720 \\\\\n",
      "  7.695 &                 0.008700 \\\\\n",
      "  8.552 &                 0.009170 \\\\\n",
      "  6.900 &                 0.000043 \\\\\n",
      " 97.250 &                 0.000336 \\\\\n",
      "  2.055 &                 0.000921 \\\\\n",
      " 26.360 &                 0.000903 \\\\\n",
      " 89.040 &                 0.001550 \\\\\n",
      "  2.170 &                 0.009430 \\\\\n",
      " 81.110 &                 0.001840 \\\\\n",
      "  8.473 &                 0.007680 \\\\\n",
      " 10.310 &                 0.000151 \\\\\n",
      "  4.572 &                 0.000589 \\\\\n",
      "  2.662 &                 0.001220 \\\\\n",
      "  2.492 &                 0.000175 \\\\\n",
      " 23.850 &                 0.000188 \\\\\n",
      "  4.386 &                 0.000617 \\\\\n",
      "  3.289 &                 0.001400 \\\\\n",
      " 28.790 &                 0.001410 \\\\\n",
      "  2.155 &                 0.001810 \\\\\n",
      " 10.420 &                 0.004230 \\\\\n",
      "\\bottomrule\n",
      "\\end{tabular}\n",
      "\n"
     ]
    }
   ],
   "source": [
    "periods = bs[0]\n",
    "fals = bs[1]\n",
    "print(pd.DataFrame({\"Period\":periods, \"False Alarm Probability\":fals}).to_latex(index=False))"
   ]
  },
  {
   "cell_type": "code",
   "execution_count": null,
   "metadata": {},
   "outputs": [],
   "source": []
  }
 ],
 "metadata": {
  "kernelspec": {
   "display_name": "Python 3",
   "language": "python",
   "name": "python3"
  },
  "language_info": {
   "codemirror_mode": {
    "name": "ipython",
    "version": 3
   },
   "file_extension": ".py",
   "mimetype": "text/x-python",
   "name": "python",
   "nbconvert_exporter": "python",
   "pygments_lexer": "ipython3",
   "version": "3.6.5"
  }
 },
 "nbformat": 4,
 "nbformat_minor": 2
}
