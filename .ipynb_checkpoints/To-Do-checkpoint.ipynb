{
 "cells": [
  {
   "cell_type": "markdown",
   "metadata": {},
   "source": [
    "# P Cygni Notes"
   ]
  },
  {
   "cell_type": "markdown",
   "metadata": {},
   "source": [
    "## To Do\n",
    "* Figure out how to make Machine readable tables for ApJ\n",
    "    - put big table in https://authortools.aas.org/MRT/upload.html\n",
    "* Rerun data and deal with changes"
   ]
  },
  {
   "cell_type": "markdown",
   "metadata": {},
   "source": [
    "### Periodicity Notes"
   ]
  },
  {
   "cell_type": "markdown",
   "metadata": {},
   "source": [
    "##### int H\n",
    "* 22.65 - 0.001\n",
    "* 97.24 - 0.007\n",
    "* 6.905 - 0.004\n",
    "* 16.21 - 0.00737\n",
    "\n",
    "##### obs H\n",
    "* 13.15 - 0.0013\n",
    "* 11.49 - 0.00472\n",
    "* 7.695 - 0.0087\n",
    "* 8.552 - 0.00917\n",
    "\n",
    "##### pfew continuum\n",
    "* 6.90  - 0.000043\n",
    "* 97.25 - 0.000336 - wowowow\n",
    "* 2.055 - 0.000921\n",
    "* 26.36 - 0.000903\n",
    "\n",
    "##### pfew ew q\n",
    "* 89.04 - 0.00155\n",
    "* 2.17  - 0.00943\n",
    "* 81.11 - 0.00184\n",
    "* 8.473 - 0.00768\n",
    "\n",
    "##### pfew ew u\n",
    "* 10.31 - 0.000151\n",
    "* 4.572 - 0.000589\n",
    "* 2.662 - 0.00122\n",
    "\n",
    "##### pfew ew I\n",
    "* 345.3 - 0.00293 - this is about what I got when I did the lomb scargle on the errors\n",
    "\n",
    "##### int V\n",
    "* 2.492 - 0.000175\n",
    "* 23.85 - 0.000188\n",
    "* 4.386 - 0.000617\n",
    "* 3.289 - 0.00140\n",
    "* 28.79 - 0.00141\n",
    "\n",
    "##### obs V\n",
    "* 2.155 - 0.00181\n",
    "* 10.42 - 0.00423"
   ]
  },
  {
   "cell_type": "code",
   "execution_count": null,
   "metadata": {},
   "outputs": [],
   "source": []
  }
 ],
 "metadata": {
  "kernelspec": {
   "display_name": "Python 3",
   "language": "python",
   "name": "python3"
  },
  "language_info": {
   "codemirror_mode": {
    "name": "ipython",
    "version": 3
   },
   "file_extension": ".py",
   "mimetype": "text/x-python",
   "name": "python",
   "nbconvert_exporter": "python",
   "pygments_lexer": "ipython3",
   "version": "3.6.5"
  }
 },
 "nbformat": 4,
 "nbformat_minor": 2
}
