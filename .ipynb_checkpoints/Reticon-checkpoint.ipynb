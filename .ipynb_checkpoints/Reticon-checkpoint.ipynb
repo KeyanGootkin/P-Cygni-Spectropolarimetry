{
 "cells": [
  {
   "cell_type": "code",
   "execution_count": 7,
   "metadata": {},
   "outputs": [],
   "source": [
    "import numpy as np\n",
    "import matplotlib.pyplot as plt\n",
    "import P_Cyg as pc\n",
    "from glob import glob"
   ]
  },
  {
   "cell_type": "code",
   "execution_count": 8,
   "metadata": {},
   "outputs": [],
   "source": [
    "datadir = 'C:/Users/Keyan/Desktop/Science/Data/P-Cygni/Data/'\n",
    "ccd_fits = glob(datadir + 'hpolccd*r_hw.fits')\n",
    "ccd_txt = glob(datadir + 'hpolccd*r_hw.fits.txt')\n",
    "ret_fits = glob(datadir + 'hpolret*.fits')\n",
    "ret_txt = glob(datadir + 'hpolret*.txt')"
   ]
  },
  {
   "cell_type": "code",
   "execution_count": 10,
   "metadata": {},
   "outputs": [
    {
     "ename": "NameError",
     "evalue": "name 'pc' is not defined",
     "output_type": "error",
     "traceback": [
      "\u001b[1;31m---------------------------------------------------------------------------\u001b[0m",
      "\u001b[1;31mNameError\u001b[0m                                 Traceback (most recent call last)",
      "\u001b[1;32m<ipython-input-10-860c9f2439ea>\u001b[0m in \u001b[0;36m<module>\u001b[1;34m()\u001b[0m\n\u001b[1;32m----> 1\u001b[1;33m \u001b[0mcw\u001b[0m\u001b[1;33m,\u001b[0m\u001b[0mcf\u001b[0m\u001b[1;33m,\u001b[0m\u001b[0mcpol\u001b[0m\u001b[1;33m,\u001b[0m\u001b[0mcpos\u001b[0m\u001b[1;33m,\u001b[0m\u001b[0mce\u001b[0m \u001b[1;33m=\u001b[0m \u001b[0mpc\u001b[0m\u001b[1;33m.\u001b[0m\u001b[0mmean_flux_pol_pos\u001b[0m\u001b[1;33m(\u001b[0m\u001b[0mccd_txt\u001b[0m\u001b[1;33m,\u001b[0m \u001b[0mccd_fits\u001b[0m\u001b[1;33m,\u001b[0m \u001b[1;36m1000\u001b[0m\u001b[1;33m,\u001b[0m \u001b[0mradial_velocity\u001b[0m\u001b[1;33m=\u001b[0m\u001b[1;33m-\u001b[0m\u001b[1;36m8.9\u001b[0m\u001b[1;33m)\u001b[0m\u001b[1;33m\u001b[0m\u001b[0m\n\u001b[0m",
      "\u001b[1;32m~\\Desktop\\Science\\Code\\P-Cygni\\P_Cyg.py\u001b[0m in \u001b[0;36mmean_flux_pol_pos\u001b[1;34m(txt_file_list, fits_file_list, bin_num, radial_velocity)\u001b[0m\n\u001b[0;32m   1694\u001b[0m         \u001b[0mA\u001b[0m \u001b[0mlist\u001b[0m \u001b[0mof\u001b[0m \u001b[0mmean\u001b[0m \u001b[0merror\u001b[0m \u001b[0mvalues\u001b[0m \u001b[0macross\u001b[0m \u001b[0mthe\u001b[0m \u001b[0mvalues\u001b[0m \u001b[0mof\u001b[0m \u001b[0mwavelength\u001b[0m\u001b[1;33m\u001b[0m\u001b[0m\n\u001b[0;32m   1695\u001b[0m     \"\"\"\n\u001b[1;32m-> 1696\u001b[1;33m     \u001b[0mwavelength\u001b[0m\u001b[1;33m,\u001b[0m\u001b[0mmean_flux\u001b[0m\u001b[1;33m,\u001b[0m\u001b[0mq\u001b[0m\u001b[1;33m,\u001b[0m\u001b[0mu\u001b[0m\u001b[1;33m,\u001b[0m\u001b[0mmean_err\u001b[0m \u001b[1;33m=\u001b[0m \u001b[0mmean_flux_Q_U\u001b[0m\u001b[1;33m(\u001b[0m\u001b[0mtxt_file_list\u001b[0m\u001b[1;33m,\u001b[0m \u001b[0mfits_file_list\u001b[0m\u001b[1;33m,\u001b[0m \u001b[0mbin_num\u001b[0m\u001b[1;33m,\u001b[0m \u001b[0mradial_velocity\u001b[0m\u001b[1;33m=\u001b[0m\u001b[0mradial_velocity\u001b[0m\u001b[1;33m)\u001b[0m\u001b[1;33m\u001b[0m\u001b[0m\n\u001b[0m\u001b[0;32m   1697\u001b[0m     \u001b[0mmean_pol\u001b[0m\u001b[1;33m,\u001b[0m\u001b[0mmean_pos\u001b[0m \u001b[1;33m=\u001b[0m \u001b[0mpolarization\u001b[0m\u001b[1;33m(\u001b[0m\u001b[0mq\u001b[0m\u001b[1;33m,\u001b[0m\u001b[0mu\u001b[0m\u001b[1;33m)\u001b[0m\u001b[1;33m\u001b[0m\u001b[0m\n\u001b[0;32m   1698\u001b[0m     \u001b[1;32mreturn\u001b[0m\u001b[1;33m(\u001b[0m\u001b[0mwavelength\u001b[0m\u001b[1;33m,\u001b[0m \u001b[0mmean_flux\u001b[0m\u001b[1;33m,\u001b[0m \u001b[0mmean_pol\u001b[0m\u001b[1;33m,\u001b[0m \u001b[0mmean_pos\u001b[0m\u001b[1;33m,\u001b[0m \u001b[0mmean_err\u001b[0m\u001b[1;33m)\u001b[0m\u001b[1;33m\u001b[0m\u001b[0m\n",
      "\u001b[1;31mNameError\u001b[0m: name 'pc' is not defined"
     ]
    }
   ],
   "source": [
    "cw,cf,cpol,cpos,ce = pc.mean_flux_pol_pos(ccd_txt, ccd_fits, 1000, radial_velocity=-8.9)"
   ]
  },
  {
   "cell_type": "code",
   "execution_count": null,
   "metadata": {},
   "outputs": [],
   "source": []
  }
 ],
 "metadata": {
  "kernelspec": {
   "display_name": "Python 3",
   "language": "python",
   "name": "python3"
  },
  "language_info": {
   "codemirror_mode": {
    "name": "ipython",
    "version": 3
   },
   "file_extension": ".py",
   "mimetype": "text/x-python",
   "name": "python",
   "nbconvert_exporter": "python",
   "pygments_lexer": "ipython3",
   "version": "3.6.5"
  }
 },
 "nbformat": 4,
 "nbformat_minor": 2
}
