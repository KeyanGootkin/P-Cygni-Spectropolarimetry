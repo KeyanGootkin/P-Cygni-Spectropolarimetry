{
 "cells": [
  {
   "cell_type": "code",
   "execution_count": 1,
   "metadata": {},
   "outputs": [],
   "source": [
    "import numpy as np\n",
    "import P_Cyg as pc\n",
    "import matplotlib.pyplot as plt\n",
    "from glob import glob\n",
    "from scipy.optimize import curve_fit\n",
    "from astropy.io import fits as fts\n",
    "from astropy.visualization import hist\n",
    "from astropy.time import Time\n",
    "import pandas as pd\n",
    "from matplotlib import rcParams\n",
    "import matplotlib.patheffects as pef"
   ]
  },
  {
   "cell_type": "code",
   "execution_count": 2,
   "metadata": {},
   "outputs": [],
   "source": [
    "from matplotlib import rcParams\n",
    "rcParams['text.usetex'] = True\n",
    "rcParams['figure.figsize'] = [4,4]\n",
    "rcParams['lines.color'] = 'black'\n",
    "rcParams['font.size'] = 12\n",
    "rcParams['font.family'] = 'serif'\n",
    "rcParams['legend.fontsize'] = 16\n",
    "cmap = plt.cm.viridis"
   ]
  },
  {
   "cell_type": "code",
   "execution_count": 3,
   "metadata": {},
   "outputs": [],
   "source": [
    "#Getting lists of data files\n",
    "datadir = 'C:/Users/Keyan/Desktop/Science/Data/P-Cygni/Data/'\n",
    "paperdir = \"C:/Users/Keyan/Desktop/Science/Data/P-Cygni/Figures/Paper_Figures\"\n",
    "intrinsicdir = \"C:/Users/Keyan/Desktop/Science/Data/P-Cygni/Data/intrinsic_pols/\"\n",
    "\n",
    "bt = pd.read_csv(\"C:/Users/Keyan/Desktop/Science/Data/P-Cygni/Data/bigtable.txt\")\n",
    "\n",
    "fits = glob(datadir + 'hpolccd*r_hw.fits')\n",
    "txt = glob(datadir + 'hpolccd*r_hw.fits.txt')\n",
    "blue_txt = glob(datadir + 'hpolccd*b_hw.fits.txt')\n",
    "blue_fits = glob(datadir + 'hpolccd*b_hw.fits')\n",
    "ret_txt = glob(datadir+'*ret*.txt')\n",
    "ret_fits = glob(datadir+'*ret*.fits')\n",
    "htxt = ret_txt + txt"
   ]
  },
  {
   "cell_type": "code",
   "execution_count": 4,
   "metadata": {},
   "outputs": [],
   "source": [
    "ws,fs,qs,us,es = pc.get_all_QU(txt,1000,radial_velocity=-8.9)"
   ]
  },
  {
   "cell_type": "code",
   "execution_count": 5,
   "metadata": {},
   "outputs": [],
   "source": [
    "bws,bfs,bqs,bus,bes = pc.get_all_QU(blue_txt,1000,radial_velocity=-8.9)"
   ]
  },
  {
   "cell_type": "code",
   "execution_count": 6,
   "metadata": {},
   "outputs": [],
   "source": [
    "retws,retfs,retqs,retus,retes = pc.get_all_QU(ret_txt,1000,radial_velocity=-8.9)"
   ]
  },
  {
   "cell_type": "code",
   "execution_count": 7,
   "metadata": {},
   "outputs": [],
   "source": [
    "bq,bu = np.mean(bqs,axis=0),np.mean(bus,axis=0)\n",
    "bpol,bpos = pc.polarization(bq,bu)\n",
    "\n",
    "rq,ru = np.mean(qs,axis=0),np.mean(us,axis=0)\n",
    "rpol,rpos = pc.polarization(rq,ru)\n",
    "\n",
    "retq,retu = np.mean(retqs,axis=0),np.mean(retus,axis=0)\n",
    "retpol,retpos = pc.polarization(retq,retu)"
   ]
  },
  {
   "cell_type": "code",
   "execution_count": 8,
   "metadata": {},
   "outputs": [],
   "source": [
    "bmask = np.where((bws[0]>4000) & (bws[0]<5900))\n",
    "rmask = np.where((ws[0]>6200) & (ws[0]<9000))\n",
    "test_polarizaton = np.array(list(bpol[bmask]) + list(rpol[rmask]))\n",
    "test_wavelength = np.array(list(np.asarray(bws[0])[bmask]) + list(np.asarray(ws[0])[rmask]))\n",
    "test_position = np.array(list(bpos[bmask]) + list(rpos[rmask]))\n",
    "test_error = list((np.sum(bes**2,axis=0)/bes.shape[0])[bmask]) + list((np.sum(es**2,axis=0)/es.shape[0])[rmask])"
   ]
  },
  {
   "cell_type": "code",
   "execution_count": 9,
   "metadata": {},
   "outputs": [],
   "source": [
    "hq,hu,he = bt.ohq,bt.ohu,bt.he\n",
    "pq,pu,pe = bt.pq,bt.pu,bt.pe"
   ]
  },
  {
   "cell_type": "code",
   "execution_count": 10,
   "metadata": {},
   "outputs": [
    {
     "data": {
      "text/plain": [
       "(1.0732543904079173, 35.316594908619805)"
      ]
     },
     "execution_count": 10,
     "metadata": {},
     "output_type": "execute_result"
    }
   ],
   "source": [
    "ave_q = np.sum([q*(1/e**2)    for q,e in zip(pq,pe)])/np.sum(1/np.array(pe)**2)\n",
    "ave_u = np.sum([u*(1/e**2)    for u,e in zip(pu,pe)])/np.sum(1/np.array(pe)**2)\n",
    "ave_pol,ave_pos = pc.polarization(ave_q,ave_u)\n",
    "ave_pol,ave_pos"
   ]
  },
  {
   "cell_type": "code",
   "execution_count": 28,
   "metadata": {},
   "outputs": [
    {
     "name": "stdout",
     "output_type": "stream",
     "text": [
      "0.11051505570879008 0.189374134831285\n"
     ]
    },
    {
     "data": {
      "image/png": "[encoded data removed]",
      "text/plain": [
       "<Figure size 288x360 with 1 Axes>"
      ]
     },
     "metadata": {},
     "output_type": "display_data"
    }
   ],
   "source": [
    "fig,ax = plt.subplots(1,figsize=(4,5));\n",
    "print(np.mean([np.std(pq),np.std(pu)]),np.mean([np.std(bt.ovq),np.std(bt.ovu)]))\n",
    "ax.scatter(pq,pu,marker='v',color=cmap(0.01),zorder=15,label=r\"H$\\alpha$ (pfew)\",s=10);\n",
    "ax.scatter(bt.ovq,bt.ovu,color=cmap(0.7),zorder=1,label=\"$V$-Band\",s=15)\n",
    "ax.scatter(ave_q,ave_u,marker='s', color=cmap(0.99), s=55,zorder=100,edgecolors='black',label='ISP Estimate');\n",
    "\n",
    "ax.errorbar(0.89,0.581,color=cmap(0.7),xerr=bt.sve.mean(),yerr=bt.sve.mean(),elinewidth=2)\n",
    "ax.text(0.24,0.56,r\"Mean $V$-band Error\",fontsize=16,fontname='Garamond')\n",
    "ax.errorbar(0.89,0.43,color=cmap(0.01),xerr=np.mean(pe),yerr=np.mean(pe),elinewidth=2)\n",
    "ax.text(0.315,0.42,r\"Mean H$\\alpha$ Error\",fontsize=16,fontname='Garamond')\n",
    "\n",
    "\n",
    "ax.set_aspect(\"equal\")\n",
    "ax.set_ylabel(\"$u$\",fontsize=20,usetex=True,rotation=0)\n",
    "ax.set_xlabel(\"$q$\",fontsize=20,usetex=True,labelpad=0)\n",
    "ax.legend(fontsize=10,loc=1)\n",
    "plt.tight_layout(pad=0)\n",
    "plt.savefig(paperdir+\"/compare.png\",dpi=300,overwrite=True)"
   ]
  },
  {
   "cell_type": "code",
   "execution_count": 13,
   "metadata": {},
   "outputs": [],
   "source": [
    "w_files= glob(\"C:/Users/Keyan/Desktop/Science/Data/P-Cygni/wuppe/*.fits\")\n",
    "all_w = []\n",
    "all_q = []\n",
    "all_u = []\n",
    "all_e = []\n",
    "\n",
    "for f in w_files:\n",
    "    hdu = fts.open(f)\n",
    "    tablehdu = hdu[1].header\n",
    "    t = hdu[1].data\n",
    "    w = t[\"WAVELENGTH\"][0]\n",
    "    all_w.append(w)\n",
    "    q = t[\"Q\"][0]\n",
    "    all_q.append(q)\n",
    "    u = t[\"U\"][0]\n",
    "    all_u.append(u)\n",
    "    e = t[\"ERROR\"][0]\n",
    "    all_e.append(e)"
   ]
  },
  {
   "cell_type": "code",
   "execution_count": 14,
   "metadata": {},
   "outputs": [],
   "source": [
    "ww = [np.mean(w[np.where((w >= 1700) & (w <= 1900))])    for w in all_w]\n",
    "wq = [np.mean(q[np.where((w >= 1700) & (w <= 1900))])    for q,w in zip(all_q,all_w)]\n",
    "wu = [np.mean(u[np.where((w >= 1700) & (w <= 1900))])    for u,w in zip(all_u,all_w)]\n",
    "we = [np.mean(np.array(e)[(w >= 1700) & (w <= 1900)])    for e,w in zip(all_e,all_w)]\n",
    "\n",
    "wpol,wpos = pc.polarization(all_q,all_u)\n",
    "wpol,wpos = np.mean(wpol,axis=0),np.mean(wpos,axis=0)"
   ]
  },
  {
   "cell_type": "code",
   "execution_count": 15,
   "metadata": {},
   "outputs": [],
   "source": [
    "def WRL(w,l_max,p_max):\n",
    "    K =  (1.86 * l_max/10000) - 0.1\n",
    "    exponential =  np.exp(-1.15 * np.log(l_max/np.asarray(w))**2)\n",
    "#     p_max = ave_pol * np.exp(1.15 * np.log(l_max/6563)**2)\n",
    "    return p_max * exponential"
   ]
  },
  {
   "cell_type": "code",
   "execution_count": 16,
   "metadata": {},
   "outputs": [
    {
     "data": {
      "text/plain": [
       "(4711.761677706708,\n",
       " 1.2420686607634919,\n",
       " array([[ 5.12632056e+01, -1.10080092e-02],\n",
       "        [-1.10080092e-02,  2.83340188e-06]]))"
      ]
     },
     "execution_count": 16,
     "metadata": {},
     "output_type": "execute_result"
    }
   ],
   "source": [
    "(lm,pm), cov = curve_fit(WRL,test_wavelength,test_polarizaton,p0=(6000,1),sigma=test_error)\n",
    "(le,pe) = np.diag(cov)\n",
    "lm,pm,cov"
   ]
  },
  {
   "cell_type": "code",
   "execution_count": 19,
   "metadata": {},
   "outputs": [],
   "source": [
    "def NordISP(w):\n",
    "    return WRL(w,5100,1.17)"
   ]
  },
  {
   "cell_type": "code",
   "execution_count": 20,
   "metadata": {},
   "outputs": [
    {
     "name": "stdout",
     "output_type": "stream",
     "text": [
      "Wavelength 4711.761677706708 plus or minus 51.263205622770435\n",
      "Rv 2.638586539515756 plus or minus 0.02870741082415058\n"
     ]
    }
   ],
   "source": [
    "rv = lm*0.00056\n",
    "rve = np.hypot(le*0.00056,0.00003)\n",
    "print(\"Wavelength \" + str(lm)+\" plus or minus \"+str(le))\n",
    "print(\"Rv \" +str(rv)+\" plus or minus \"+str(rve))"
   ]
  },
  {
   "cell_type": "code",
   "execution_count": 21,
   "metadata": {},
   "outputs": [],
   "source": [
    "def GootkinISP(w,l_max = lm):\n",
    "    K =  (1.86 * l_max/10000) - 0.1\n",
    "    exponential =  np.exp(-1.15 * np.log(l_max/np.asarray(w))**2)\n",
    "    p_max = ave_pol * np.exp(1.15 * np.log(l_max/6563)**2)\n",
    "    return p_max * exponential\n",
    "\n",
    "def TaylorISP(w):\n",
    "    w = np.array(w)\n",
    "    ISP = 1.06*np.exp(-1.15*(np.log(5500/w)**2))\n",
    "    return(ISP)"
   ]
  },
  {
   "cell_type": "code",
   "execution_count": 23,
   "metadata": {},
   "outputs": [
    {
     "name": "stdout",
     "output_type": "stream",
     "text": [
      "1.2177253637069005\n"
     ]
    },
    {
     "data": {
      "image/png": "[encoded data removed]",
      "text/plain": [
       "<Figure size 576x288 with 1 Axes>"
      ]
     },
     "metadata": {},
     "output_type": "display_data"
    }
   ],
   "source": [
    "x = np.linspace(1000,10000)\n",
    "fig,ax = plt.subplots(1,figsize=(8,4))\n",
    "ax.axvspan(4000,5900,color='black',alpha=0.1)\n",
    "ax.axvspan(6200,9000,color='black',alpha=0.1)\n",
    "ax.axvline(4000,linestyle='--')\n",
    "ax.axvline(5900,linestyle='--')\n",
    "ax.axvline(6200,linestyle='--')\n",
    "ax.axvline(9000,linestyle='--')\n",
    "\n",
    "plt.plot(bws[0][150:-130],bpol[150:-130],color = \"black\")\n",
    "plt.plot(ws[0][10:-100],rpol[10:-100],color = \"black\")\n",
    "plt.plot(all_w[0][100:-180],wpol[100:-180],color = \"black\",alpha=0.5)\n",
    "\n",
    "plt.plot(x,TaylorISP(x),label=\"Taylor et al. (1991b)\",linewidth=4,color = cmap(00.2),path_effects=[pef.Stroke(linewidth=6, foreground='black'), pef.Normal()])\n",
    "plt.plot(x,NordISP(x),label=\"Nordsieck et al. (2001)\",linewidth=4,color = cmap(0.66),path_effects=[pef.Stroke(linewidth=6, foreground='black'), pef.Normal()])\n",
    "plt.plot(x,GootkinISP(x),label=\"This Work\",linewidth=4,color = cmap(0.99),path_effects=[pef.Stroke(linewidth=6, foreground='black'), pef.Normal()])\n",
    "plt.ylim(0.4,1.4);f\n",
    "plt.xlim(1500,10000);\n",
    "plt.legend(fontsize=10.7,frameon=False,loc='lower left',bbox_to_anchor=(0.555,0.05));\n",
    "plt.xticks(fontsize=12)\n",
    "plt.yticks(fontsize=12)\n",
    "\n",
    "plt.xlabel(\"Wavelength (\\AA)\",size=20,usetex=True);\n",
    "plt.ylabel(\"$P_\\%$\",size=20,usetex=True,rotation=0,labelpad=10);\n",
    "plt.tight_layout(pad=0)\n",
    "plt.savefig(paperdir+\"/isp.png\",overwrite=True,dpi=300)"
   ]
  },
  {
   "cell_type": "code",
   "execution_count": 24,
   "metadata": {},
   "outputs": [
    {
     "data": {
      "text/plain": [
       "34.77350707181566"
      ]
     },
     "execution_count": 24,
     "metadata": {},
     "output_type": "execute_result"
    }
   ],
   "source": [
    "vpol,vpa = pc.polarization(bt.pq,bt.pu)\n",
    "isp_pos = vpa.mean()\n",
    "isp_pos"
   ]
  },
  {
   "cell_type": "code",
   "execution_count": 25,
   "metadata": {},
   "outputs": [
    {
     "name": "stdout",
     "output_type": "stream",
     "text": [
      "46\n"
     ]
    }
   ],
   "source": [
    "def isp_qu(ISP_pol,ISP_pa=isp_pos):\n",
    "    q = np.array(ISP_pol)*np.cos(np.deg2rad(2*ISP_pa))\n",
    "    u = np.array(ISP_pol)*np.sin(np.deg2rad(2*ISP_pa))\n",
    "    return(q,u)\n",
    "\n",
    "def sub_isp(w,q,u):\n",
    "    ispq,ispu = isp_qu(GootkinISP(w))\n",
    "    return np.asarray(q)-np.asarray(ispq),np.asarray(u)-np.asarray(ispu)\n",
    "print(len(retws))"
   ]
  },
  {
   "cell_type": "code",
   "execution_count": 26,
   "metadata": {},
   "outputs": [
    {
     "name": "stdout",
     "output_type": "stream",
     "text": [
      "1.2177253637069005\n",
      "1.2177253637069005\n",
      "1.2177253637069005\n",
      "1.2177253637069005\n",
      "1.2177253637069005\n",
      "1.2177253637069005\n",
      "1.2177253637069005\n",
      "1.2177253637069005\n",
      "1.2177253637069005\n",
      "1.2177253637069005\n",
      "1.2177253637069005\n",
      "1.2177253637069005\n",
      "1.2177253637069005\n",
      "1.2177253637069005\n",
      "1.2177253637069005\n",
      "1.2177253637069005\n",
      "1.2177253637069005\n",
      "1.2177253637069005\n",
      "1.2177253637069005\n",
      "1.2177253637069005\n",
      "1.2177253637069005\n",
      "1.2177253637069005\n",
      "1.2177253637069005\n",
      "1.2177253637069005\n",
      "1.2177253637069005\n",
      "1.2177253637069005\n",
      "1.2177253637069005\n",
      "1.2177253637069005\n",
      "1.2177253637069005\n",
      "1.2177253637069005\n",
      "1.2177253637069005\n",
      "1.2177253637069005\n",
      "1.2177253637069005\n",
      "1.2177253637069005\n",
      "1.2177253637069005\n",
      "1.2177253637069005\n",
      "1.2177253637069005\n",
      "1.2177253637069005\n",
      "1.2177253637069005\n",
      "1.2177253637069005\n",
      "1.2177253637069005\n",
      "1.2177253637069005\n",
      "1.2177253637069005\n",
      "1.2177253637069005\n",
      "1.2177253637069005\n",
      "1.2177253637069005\n",
      "1.2177253637069005\n",
      "1.2177253637069005\n",
      "1.2177253637069005\n",
      "1.2177253637069005\n",
      "1.2177253637069005\n",
      "1.2177253637069005\n",
      "1.2177253637069005\n",
      "1.2177253637069005\n",
      "1.2177253637069005\n",
      "1.2177253637069005\n",
      "1.2177253637069005\n",
      "1.2177253637069005\n",
      "1.2177253637069005\n",
      "1.2177253637069005\n",
      "1.2177253637069005\n",
      "1.2177253637069005\n",
      "1.2177253637069005\n",
      "1.2177253637069005\n",
      "1.2177253637069005\n",
      "1.2177253637069005\n",
      "1.2177253637069005\n",
      "1.2177253637069005\n",
      "1.2177253637069005\n",
      "1.2177253637069005\n",
      "1.2177253637069005\n",
      "1.2177253637069005\n",
      "1.2177253637069005\n",
      "1.2177253637069005\n",
      "1.2177253637069005\n",
      "1.2177253637069005\n",
      "1.2177253637069005\n",
      "1.2177253637069005\n",
      "1.2177253637069005\n",
      "1.2177253637069005\n",
      "1.2177253637069005\n",
      "1.2177253637069005\n",
      "1.2177253637069005\n",
      "1.2177253637069005\n",
      "1.2177253637069005\n",
      "1.2177253637069005\n",
      "1.2177253637069005\n",
      "1.2177253637069005\n",
      "1.2177253637069005\n",
      "1.2177253637069005\n",
      "1.2177253637069005\n",
      "1.2177253637069005\n",
      "1.2177253637069005\n",
      "1.2177253637069005\n",
      "1.2177253637069005\n",
      "1.2177253637069005\n",
      "1.2177253637069005\n",
      "1.2177253637069005\n",
      "1.2177253637069005\n",
      "1.2177253637069005\n",
      "1.2177253637069005\n",
      "1.2177253637069005\n",
      "1.2177253637069005\n",
      "1.2177253637069005\n",
      "1.2177253637069005\n",
      "1.2177253637069005\n",
      "1.2177253637069005\n",
      "1.2177253637069005\n",
      "1.2177253637069005\n",
      "1.2177253637069005\n"
     ]
    }
   ],
   "source": [
    "# Writing intrinsic pols to datafiles for ease\n",
    "\n",
    "for w,f,q,u,e,file in zip(ws,fs,qs,us,es,fits):\n",
    "    time = Time(file[63:67]+\"-\"+file[67:69]+\"-\"+file[69:71],format='fits',location=(43,-89,0)).mjd\n",
    "    new_q,new_u = sub_isp(w,q,u)\n",
    "    df = pd.DataFrame({\"Wavelength\":w,\"Flux\":f,\"Q\":new_q,\"U\":new_u,\"Error\":e})\n",
    "    df.to_csv(intrinsicdir+\"{0:d}\".format(int(time))+\"r.txt\",index=False)\n",
    "\n",
    "for w,f,q,u,e,file in zip(bws,bfs,bqs,bus,bes,blue_fits):\n",
    "    time = Time(file[63:67]+\"-\"+file[67:69]+\"-\"+file[69:71],format='fits',location=(43,-89,0)).mjd\n",
    "    new_q,new_u = sub_isp(w,q,u)\n",
    "    df = pd.DataFrame({\"Wavelength\":w,\"Flux\":f,\"Q\":new_q,\"U\":new_u,\"Error\":e})\n",
    "    df.to_csv(intrinsicdir+\"{0:d}\".format(int(time))+\"b.txt\",index=False)\n",
    "\n",
    "for w,f,q,u,e,file in zip(retws,retfs,retqs,retus,retes,ret_txt):\n",
    "    time = Time(file[63:67]+\"-\"+file[67:69]+\"-\"+file[69:71],format='fits',location=(43,-89,0)).mjd\n",
    "    new_q,new_u = sub_isp(w,q,u)\n",
    "    df = pd.DataFrame({\"Wavelength\":w,\"Flux\":f,\"Q\":new_q,\"U\":new_u,\"Error\":e})\n",
    "    df.to_csv(intrinsicdir+\"{0:d}\".format(int(time))+\"o.txt\",index=False)"
   ]
  },
  {
   "cell_type": "code",
   "execution_count": null,
   "metadata": {},
   "outputs": [],
   "source": []
  },
  {
   "cell_type": "code",
   "execution_count": null,
   "metadata": {},
   "outputs": [],
   "source": []
  }
 ],
 "metadata": {
  "kernelspec": {
   "display_name": "Python 3",
   "language": "python",
   "name": "python3"
  },
  "language_info": {
   "codemirror_mode": {
    "name": "ipython",
    "version": 3
   },
   "file_extension": ".py",
   "mimetype": "text/x-python",
   "name": "python",
   "nbconvert_exporter": "python",
   "pygments_lexer": "ipython3",
   "version": "3.6.5"
  }
 },
 "nbformat": 4,
 "nbformat_minor": 2
}
