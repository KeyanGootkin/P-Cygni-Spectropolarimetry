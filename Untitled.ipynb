{
 "cells": [
  {
   "cell_type": "code",
   "execution_count": 1,
   "metadata": {},
   "outputs": [],
   "source": [
    "import numpy as np\n",
    "import P_Cyg as pc\n",
    "import matplotlib.pyplot as plt\n",
    "from glob import glob\n",
    "import pandas as pd\n",
    "from astropy.time import Time\n",
    "from astropy.stats import LombScargle"
   ]
  },
  {
   "cell_type": "code",
   "execution_count": 34,
   "metadata": {},
   "outputs": [],
   "source": [
    "datadir = 'C:/Users/Keyan/Desktop/Science/Data/P-Cygni/Data/'\n",
    "paperdir = \"C:/Users/Keyan/Desktop/Science/Data/P-Cygni/Figures/Paper_Figures\"\n",
    "intrinsicdir = \"C:/Users/Keyan/Desktop/Science/Data/P-Cygni/Data/intrinsic_pols/\"\n",
    "\n",
    "bt = pd.read_csv(\"C:/Users/Keyan/Desktop/Science/Data/P-Cygni/Data/bigtable.txt\")\n",
    "\n",
    "fits = glob(datadir + 'hpolccd*r_hw.fits')\n",
    "txt = glob(datadir + 'hpolccd*r_hw.fits.txt')\n",
    "blue_txt = glob(datadir + 'hpolccd*b_hw.fits.txt')\n",
    "blue_fits = glob(datadir + 'hpolccd*b_hw.fits')\n",
    "ret_txt = glob(datadir+'*ret*.txt')\n",
    "ret_fits = glob(datadir+'*ret*.fits')\n",
    "htxt = ret_txt + txt"
   ]
  },
  {
   "cell_type": "code",
   "execution_count": 35,
   "metadata": {},
   "outputs": [],
   "source": [
    "ws,fs,qs,us,es = pc.get_all_QU(txt,1000,radial_velocity=-8.9)"
   ]
  },
  {
   "cell_type": "code",
   "execution_count": 36,
   "metadata": {},
   "outputs": [],
   "source": [
    "bws,bfs,bqs,bus,bes = pc.get_all_QU(blue_txt,1000,radial_velocity=-8.9)"
   ]
  },
  {
   "cell_type": "code",
   "execution_count": 37,
   "metadata": {},
   "outputs": [],
   "source": [
    "retws,retfs,retqs,retus,retes = pc.get_all_QU(ret_txt,1000,radial_velocity=-8.9)"
   ]
  },
  {
   "cell_type": "code",
   "execution_count": 38,
   "metadata": {},
   "outputs": [],
   "source": [
    "hq,hu,he = bt.ohq,bt.ohu,bt.he\n",
    "pq,pu,pe = bt.pq,bt.pu,bt.pe"
   ]
  },
  {
   "cell_type": "code",
   "execution_count": 39,
   "metadata": {},
   "outputs": [],
   "source": [
    "ave_q = np.sum([q*(1/e**2)    for q,e in zip(pq,pe)])/np.sum(1/np.array(pe)**2)\n",
    "ave_u = np.sum([u*(1/e**2)    for u,e in zip(pu,pe)])/np.sum(1/np.array(pe)**2)\n",
    "ave_pol,ave_pos = pc.polarization(ave_q,ave_u)"
   ]
  },
  {
   "cell_type": "code",
   "execution_count": 40,
   "metadata": {},
   "outputs": [],
   "source": [
    "vpol,vpa = pc.polarization(bt.pq,bt.pu)\n",
    "isp_pos = vpa.mean()"
   ]
  },
  {
   "cell_type": "code",
   "execution_count": 41,
   "metadata": {},
   "outputs": [],
   "source": [
    "def WRL(w,l_max):\n",
    "    K =  (1.86 * l_max/10000) - 0.1\n",
    "    exponential =  np.exp(-1.15 * np.log(l_max/np.asarray(w))**2)\n",
    "    p_max = ave_pol * np.exp(1.15 * np.log(l_max/6563)**2)\n",
    "    return p_max * exponential"
   ]
  },
  {
   "cell_type": "code",
   "execution_count": 42,
   "metadata": {},
   "outputs": [],
   "source": [
    "def isp_qu(ISP_pol,ISP_pa=isp_pos):\n",
    "    q = np.array(ISP_pol)*np.cos(np.deg2rad(2*ISP_pa))\n",
    "    u = np.array(ISP_pol)*np.sin(np.deg2rad(2*ISP_pa))\n",
    "    return(q,u)\n",
    "\n",
    "def sub_isp(w,q,u,lm):\n",
    "    ispq,ispu = isp_qu(WRL(w,lm))\n",
    "    return np.asarray(q)-np.asarray(ispq),np.asarray(u)-np.asarray(ispu)\n",
    "hmask = lambda df: df[(df.Wavelength>6540) & (df.Wavelength<6600)]\n",
    "sig = lambda x : float(\"{0:.3f}\".format(x))"
   ]
  },
  {
   "cell_type": "code",
   "execution_count": 43,
   "metadata": {},
   "outputs": [
    {
     "data": {
      "text/plain": [
       "array([97.38613861, 97.00197239, 97.38613861, 97.00197239, 97.38613861,\n",
       "       97.00197239, 97.38613861, 97.00197239, 97.38613861, 97.00197239])"
      ]
     },
     "execution_count": 43,
     "metadata": {},
     "output_type": "execute_result"
    }
   ],
   "source": [
    "lms = np.arange(4500,5000,100)\n",
    "hp = []\n",
    "for lm in lms:\n",
    "    rdfs = []\n",
    "    bdfs = []\n",
    "    retdfs = []\n",
    "    for w,f,q,u,e,file in zip(ws,fs,qs,us,es,fits):\n",
    "        time = Time(file[63:67]+\"-\"+file[67:69]+\"-\"+file[69:71],format='fits',location=(43,-89,0)).mjd\n",
    "        new_q,new_u = sub_isp(w,q,u,lm)\n",
    "        rdfs.append(pd.DataFrame({\"Wavelength\":w,\"Flux\":f,\"Q\":new_q,\"U\":new_u,\"Error\":e,'mjd':int(time)}))\n",
    "    for w,f,q,u,e,file in zip(bws,bfs,bqs,bus,bes,blue_fits):\n",
    "        time = Time(file[63:67]+\"-\"+file[67:69]+\"-\"+file[69:71],format='fits',location=(43,-89,0)).mjd\n",
    "        new_q,new_u = sub_isp(w,q,u,lm)\n",
    "        bdfs.append(pd.DataFrame({\"Wavelength\":w,\"Flux\":f,\"Q\":new_q,\"U\":new_u,\"Error\":e,'mjd':int(time)}))\n",
    "    for w,f,q,u,e,file in zip(retws,retfs,retqs,retus,retes,ret_txt):\n",
    "        time = Time(file[63:67]+\"-\"+file[67:69]+\"-\"+file[69:71],format='fits',location=(43,-89,0)).mjd\n",
    "        new_q,new_u = sub_isp(w,q,u,lm)\n",
    "        retdfs.append(pd.DataFrame({\"Wavelength\":w,\"Flux\":f,\"Q\":new_q,\"U\":new_u,\"Error\":e,'mjd':int(time)}))\n",
    "    mdfs = []\n",
    "    for rdf in rdfs:\n",
    "        rt = rdf.mjd[0]\n",
    "        for bdf in bdfs:\n",
    "            if rt == bdf.mjd[0]:\n",
    "                mdfs.append([rdf,bdf])\n",
    "    mdfs = [pd.concat([p[0],p[1][p[1].Wavelength < 6100]]).sort_values(\"Wavelength\")    for p in mdfs]\n",
    "    dfs = retdfs+mdfs\n",
    "    t = [np.array(df.mjd)[0]    for df in dfs]\n",
    "    dfs = [hmask(df)    for df in dfs]\n",
    "    pol = [pc.polarization(df.Q.mean(),df.U.mean())[0]    for df in dfs]\n",
    "    err = [df.Error.mean()    for df in dfs]\n",
    "    ls = LombScargle(t,pol,dy=err)\n",
    "    f,p = ls.autopower()\n",
    "    fal = ls.false_alarm_level(0.0001)\n",
    "    hp.append(1/f[np.where(p >= fal)])\n",
    "np.array(hp).flatten()"
   ]
  },
  {
   "cell_type": "code",
   "execution_count": 12,
   "metadata": {},
   "outputs": [
    {
     "data": {
      "text/plain": [
       "<matplotlib.lines.Line2D at 0x281b007dc88>"
      ]
     },
     "execution_count": 12,
     "metadata": {},
     "output_type": "execute_result"
    },
    {
     "data": {
      "image/png": "[encoded data removed]",
      "text/plain": [
       "<Figure size 432x288 with 1 Axes>"
      ]
     },
     "metadata": {},
     "output_type": "display_data"
    }
   ],
   "source": [
    "lm = 4711\n",
    "rdfs = []\n",
    "bdfs = []\n",
    "retdfs = []\n",
    "for w,f,q,u,e,file in zip(ws,fs,qs,us,es,fits):\n",
    "    time = Time(file[63:67]+\"-\"+file[67:69]+\"-\"+file[69:71],format='fits',location=(43,-89,0)).mjd\n",
    "    new_q,new_u = sub_isp(w,q,u,lm)\n",
    "    rdfs.append(pd.DataFrame({\"Wavelength\":w,\"Flux\":f,\"Q\":new_q,\"U\":new_u,\"Error\":e,'mjd':int(time)}))\n",
    "for w,f,q,u,e,file in zip(bws,bfs,bqs,bus,bes,blue_fits):\n",
    "    time = Time(file[63:67]+\"-\"+file[67:69]+\"-\"+file[69:71],format='fits',location=(43,-89,0)).mjd\n",
    "    new_q,new_u = sub_isp(w,q,u,lm)\n",
    "    bdfs.append(pd.DataFrame({\"Wavelength\":w,\"Flux\":f,\"Q\":new_q,\"U\":new_u,\"Error\":e,'mjd':int(time)}))\n",
    "for w,f,q,u,e,file in zip(retws,retfs,retqs,retus,retes,ret_txt):\n",
    "    time = Time(file[63:67]+\"-\"+file[67:69]+\"-\"+file[69:71],format='fits',location=(43,-89,0)).mjd\n",
    "    new_q,new_u = sub_isp(w,q,u,lm)\n",
    "    retdfs.append(pd.DataFrame({\"Wavelength\":w,\"Flux\":f,\"Q\":new_q,\"U\":new_u,\"Error\":e,'mjd':int(time)}))\n",
    "mdfs = []\n",
    "for rdf in rdfs:\n",
    "    rt = rdf.mjd[0]\n",
    "    for bdf in bdfs:\n",
    "        if rt == bdf.mjd[0]:\n",
    "            mdfs.append([rdf,bdf])\n",
    "mdfs = [pd.concat([p[0],p[1][p[1].Wavelength < 6100]]).sort_values(\"Wavelength\")    for p in mdfs]\n",
    "dfs = retdfs+mdfs\n",
    "t = [np.array(df.mjd)[0]    for df in dfs]\n",
    "dfs = [hmask(df)    for df in dfs]\n",
    "qs,us = [sig(sum(df.Q*(df.Error**-2))/sum(df.Error**-2))    for df in dfs],[sig(sum(df.U*(df.Error**-2))/sum(df.Error**-2))    for df in dfs]\n",
    "err = [sig(np.sqrt(np.sum(df.Error**2))/np.sqrt(df.Error.size))    for df in dfs]\n",
    "pol = pc.polarization(qs,us)[0]\n",
    "ls = LombScargle(t,pol,dy=err)\n",
    "f = np.linspace(0.0001,0.15,10000)\n",
    "p = ls.power(f)\n",
    "fal = ls.false_alarm_level(0.0001)\n",
    "np.array(1/f[np.where(p >= fal)])\n",
    "plt.plot(f,p)\n",
    "plt.axhline(fal)"
   ]
  },
  {
   "cell_type": "code",
   "execution_count": null,
   "metadata": {},
   "outputs": [],
   "source": []
  },
  {
   "cell_type": "code",
   "execution_count": null,
   "metadata": {},
   "outputs": [],
   "source": []
  }
 ],
 "metadata": {
  "kernelspec": {
   "display_name": "Python 3",
   "language": "python",
   "name": "python3"
  },
  "language_info": {
   "codemirror_mode": {
    "name": "ipython",
    "version": 3
   },
   "file_extension": ".py",
   "mimetype": "text/x-python",
   "name": "python",
   "nbconvert_exporter": "python",
   "pygments_lexer": "ipython3",
   "version": "3.6.5"
  }
 },
 "nbformat": 4,
 "nbformat_minor": 2
}
