{
 "cells": [
  {
   "cell_type": "code",
   "execution_count": 1,
   "metadata": {},
   "outputs": [],
   "source": [
    "%matplotlib inline\n",
    "import numpy as np\n",
    "import pandas as pd\n",
    "from sklearn.model_selection import GridSearchCV\n",
    "from sklearn.neighbors import KernelDensity\n",
    "from astropy.modeling.functional_models import Gaussian2D\n",
    "from astropy.modeling import fitting\n",
    "import matplotlib.pyplot as plt\n",
    "import argparse\n",
    "import warnings\n",
    "import sys\n",
    "import sympy as sp\n",
    "from scipy.stats import pearsonr\n",
    "from Ellipticity import Ellipse\n",
    "from astropy.time import Time\n",
    "import P_Cyg as pc\n",
    "from glob import glob\n",
    "paperdir = \"C:/Users/Keyan/Desktop/Science/Data/P-Cygni/Figures/Paper_Figures\"\n",
    "sp.init_printing()\n",
    "fitter = fitting.LevMarLSQFitter()\n",
    "from matplotlib import rcParams\n",
    "#rcParams['text.usetex'] = True\n",
    "rcParams['figure.figsize'] = [4,4]\n",
    "rcParams['lines.color'] = 'black'\n",
    "rcParams['font.size'] = 20\n",
    "rcParams['font.family'] = 'serif'\n",
    "rcParams['legend.fontsize'] = 14\n",
    "rcParams['xtick.labelsize']= 12\n",
    "rcParams['ytick.labelsize']= 12"
   ]
  },
  {
   "cell_type": "code",
   "execution_count": 2,
   "metadata": {},
   "outputs": [],
   "source": [
    "def ncplot(x,y,z,n=10,alpha=1):\n",
    "    f = plt.figure(figsize = (5,5))\n",
    "    ax = f.gca()\n",
    "    out_obj = ax.contourf(x,y,z,n,cmap='viridis',alpha=alpha)\n",
    "    #make sure axis are the same proportion\n",
    "    xrange=x.max()-x.min()\n",
    "    yrange=y.max()-y.min()\n",
    "    if yrange < xrange:\n",
    "        diff=xrange-yrange\n",
    "        ax.set_ylim(y.min()-diff/2,y.max()+diff/2)\n",
    "    elif xrange < yrange:\n",
    "        diff=yrange-xrange\n",
    "        ax.set_xlim(x.min()-diff/2,x.max()+diff/2)\n",
    "    ax.set_xlabel(r\"Stokes Q\",size=20,fontname=\"Arial\")\n",
    "    ax.set_ylabel(r\"Stokes U\",size=20,fontname=\"Arial\")\n",
    "    #out_obj is used for colorbars\n",
    "    return ax, out_obj"
   ]
  },
  {
   "cell_type": "code",
   "execution_count": 3,
   "metadata": {},
   "outputs": [
    {
     "name": "stdout",
     "output_type": "stream",
     "text": [
      "0.17840064444289405 0.9746009092568151 32.103767235198774\n",
      "0.00028756825093115073 0.8803752548590067 146.75780327915095\n"
     ]
    },
    {
     "data": {
      "image/png": "[encoded data removed]",
      "text/plain": [
       "<Figure size 576x288 with 2 Axes>"
      ]
     },
     "metadata": {},
     "output_type": "display_data"
    }
   ],
   "source": [
    "vdf = pd.read_csv(\"C:/Users/Keyan/Desktop/Science/Data/P-Cygni/Data/KDE/VBandData.txt\",delim_whitespace=True)\n",
    "err = vdf.IntError.values\n",
    "v = Ellipse(q=vdf.Q[vdf.U>-0.4],u=vdf.U[vdf.U>-0.4])\n",
    "v2 = Ellipse(q=vdf.Q,u=vdf.U)\n",
    "err2 = np.sqrt(vdf.SysError[vdf.U>-0.4]**2 + vdf.IntError[vdf.U>-0.4]**2).values\n",
    "\n",
    "fig = plt.figure(figsize=[8,4])\n",
    "fig.subplots_adjust(wspace=0.05,hspace=0.01)\n",
    "ax1 = plt.subplot2grid((10,20),(0,0),colspan=10,rowspan=10)\n",
    "ax2 = plt.subplot2grid((10,20),(0,10),colspan=10,rowspan=10)\n",
    "\n",
    "ax1.set_facecolor(\"#471365\")\n",
    "ax1.spines['right'].set_color(\"white\")\n",
    "ax1.contourf(v2.X,v2.Y,v2.G,levels=10,cmap=plt.cm.viridis)\n",
    "ax1.errorbar(v2.q,v2.u,yerr=err,xerr=err,linestyle='none',elinewidth=4, color='white')\n",
    "\n",
    "ax1.set_ylabel(\"$u$\",fontsize=20,usetex=True,rotation=0,labelpad=10)\n",
    "ax1.set_xlabel(\"$q$\",fontsize=20,usetex=True,labelpad=-6)\n",
    "\n",
    "ax1.set_ylim(-0.5,0.1)\n",
    "ax1.set_xlim(0.25-0.3,0.25+0.3)\n",
    "\n",
    "ax2.set_ylim(-0.5,0.1)\n",
    "ax2.set_xlim(0.25-0.3,0.25+0.3)\n",
    "# ax2.set_aspect('equal')\n",
    "ax2.set_yticks([])\n",
    "ax2.set_facecolor(\"#471365\")\n",
    "ax2.spines['left'].set_color(\"white\")\n",
    "ax2.contourf(v.X,v.Y,v.G,levels=10,cmap=plt.cm.viridis)\n",
    "#ax2.scatter(v2.q,v2.u,marker='+',s=600, color='white')\n",
    "ax2.errorbar(v.q,v.u,yerr=err2,xerr=err2,linestyle='none',elinewidth=4, color='white')\n",
    "ax2.set_xlabel(\"$q$\",fontsize=20,usetex=True,labelpad=-6)\n",
    "#ax2.set_ylabel(\"Stokes U\",fontsize=30)\n",
    "plt.tight_layout(pad=0)\n",
    "plt.savefig(paperdir+\"/test_gauss.png\",overwrite=True,dpi=300)\n",
    "testsig,testL = v.sig,v.L\n",
    "fulltestsig,fulltestL = v2.sig,v2.L\n",
    "print(v2.sig,v2.L,180+v2.theta)\n",
    "print(v.sig,v.L,180+v.theta)"
   ]
  },
  {
   "cell_type": "markdown",
   "metadata": {},
   "source": [
    "# P Cyg V-Band Test\n",
    "\n",
    "Now that we have synthetic V-band data, we can test that instead of the H$\\alpha$ data"
   ]
  },
  {
   "cell_type": "code",
   "execution_count": 4,
   "metadata": {},
   "outputs": [],
   "source": [
    "vvv = pd.read_csv(\"C:/Users/Keyan/Desktop/Science/Data/P-Cygni/Data/bigtable.txt\")\n",
    "vip = Ellipse(q=vvv.ovq,u=vvv.ovu)"
   ]
  },
  {
   "cell_type": "code",
   "execution_count": 5,
   "metadata": {},
   "outputs": [
    {
     "name": "stdout",
     "output_type": "stream",
     "text": [
      "0.29917805916398627 0.9838252610472049\n"
     ]
    },
    {
     "data": {
      "image/png": "[encoded data removed]",
      "text/plain": [
       "<Figure size 288x288 with 1 Axes>"
      ]
     },
     "metadata": {},
     "output_type": "display_data"
    }
   ],
   "source": [
    "fig,ax = plt.subplots(figsize=[4,4])\n",
    "ax.set_aspect('equal')\n",
    "ax.set_facecolor(\"#471365\")\n",
    "ax.contourf(vip.X,vip.Y,vip.G,levels=10,cmap=plt.cm.viridis)\n",
    "ax.errorbar(vvv.ovq,vvv.ovu,yerr=vvv.sve,xerr=vvv.sve,linestyle='none',elinewidth=2, color='white',marker='o',markersize=2)\n",
    "ax.set_ylabel(\"$u$\",fontsize=20,usetex=True,rotation=0)\n",
    "ax.set_xlabel(\"$q$\",fontsize=20,usetex=True)\n",
    "# ax.set_ylim(-0.6,0.5)\n",
    "# ax.axvline(0,linestyle='--',color='white',alpha=0.5)\n",
    "# ax.axhline(0,linestyle='--',color='white',alpha=0.5)\n",
    "pcygsig,pcygL = vip.sig,vip.L\n",
    "print(vip.sig,vip.L)"
   ]
  },
  {
   "cell_type": "code",
   "execution_count": 6,
   "metadata": {},
   "outputs": [
    {
     "name": "stdout",
     "output_type": "stream",
     "text": [
      "\\begin{tabular}{llllrrrr}\n",
      "\\toprule\n",
      "{} &                    Data & \\textbackslash mathcal\\{L\\}\\_e & P( \\textbackslash mathcal\\{L\\}\\_e ) &  \\$\\textbackslash sigma\\_q\\$ &  \\$\\textbackslash sigma\\_u\\$ &  \\$r\\$ &  Figure \\\\\n",
      "\\midrule\n",
      "0 &      Significant Circle &             1 &              1e-05 &           1 &           1 &    1 &       1 \\\\\n",
      "1 &   Insignificant Ellipse &             0 &                0.5 &           1 &           1 &    1 &       1 \\\\\n",
      "2 &        Significant Line &           0.5 &              1e-05 &           1 &           1 &    1 &       1 \\\\\n",
      "3 &                 P Cygni &      0.983825 &           0.299178 &           1 &           1 &    1 &       1 \\\\\n",
      "4 &             Test System &      0.974601 &           0.178401 &           1 &           1 &    1 &       1 \\\\\n",
      "5 &  Test System (adjusted) &      0.880375 &        0.000287568 &           1 &           1 &    1 &       1 \\\\\n",
      "\\bottomrule\n",
      "\\end{tabular}\n",
      "\n"
     ]
    }
   ],
   "source": [
    "Etable = pd.DataFrame({\"Data\":['Significant Circle','Insignificant Ellipse','Significant Line','P Cygni','Test System', 'Test System (adjusted)'],\n",
    "                       \"\\mathcal{L}_e\":['1','0','0.5',pcygL,fulltestL,testL],\n",
    "                       \"P( \\mathcal{L}_e )\":[str(1e-5),str(0.5),str(1e-5),pcygsig,fulltestsig,testsig],\n",
    "                       r\"$\\sigma_q$\":[1,1,1,1,1,1],\n",
    "                       r\"$\\sigma_u$\":[1,1,1,1,1,1],\n",
    "                       r\"$r$\": [1,1,1,1,1,1],\n",
    "                       \"Figure\":[1,1,1,1,1,1]})\n",
    "print(Etable.to_latex())"
   ]
  },
  {
   "cell_type": "code",
   "execution_count": 7,
   "metadata": {},
   "outputs": [],
   "source": [
    "bt = pd.read_csv(\"C:/Users/Keyan/Desktop/Science/Data/P-Cygni/Data/bigtable.txt\")\n",
    "ell = Ellipse(q=bt.ovq,u=bt.ovu)"
   ]
  },
  {
   "cell_type": "code",
   "execution_count": 8,
   "metadata": {},
   "outputs": [
    {
     "data": {
      "image/png": "[encoded data removed]",
      "text/latex": [
       "$$\\left ( 0.29917805916398627, \\quad 0.20295283957123564, \\quad 0.17579543009133436, \\quad 0.10943567968371386, \\quad 0.9838252610472049, \\quad 0.3466756297732897\\right )$$"
      ],
      "text/plain": [
       "(0.29917805916398627, 0.20295283957123564, 0.17579543009133436, 0.109435679683\n",
       "71386, 0.9838252610472049, 0.3466756297732897)"
      ]
     },
     "execution_count": 8,
     "metadata": {},
     "output_type": "execute_result"
    },
    {
     "data": {
      "image/png": "[encoded data removed]",
      "text/plain": [
       "<Figure size 288x334.8 with 1 Axes>"
      ]
     },
     "metadata": {},
     "output_type": "display_data"
    }
   ],
   "source": [
    "fig,ax = plt.subplots(1,figsize=[4,4.65])\n",
    "plt.tight_layout(rect=(0,0.01,1,1))\n",
    "ax.set_facecolor(\"#471365\")\n",
    "ax.set_aspect('equal')\n",
    "plt.contourf(ell.X,ell.Y,ell.G,levels=10,cmap=plt.cm.viridis)\n",
    "plt.errorbar(bt.ovq,bt.ovu,yerr=bt.sve,xerr=bt.sve,linestyle='none',elinewidth=2, color='white')\n",
    "\n",
    "ax.set_ylabel(\"$u$\",fontsize=20,usetex=True,rotation=0,labelpad=10)\n",
    "ax.set_xlabel(\"$q$\",size=20,usetex=True,labelpad=-6)\n",
    "\n",
    "plt.tight_layout(pad=0)\n",
    "plt.savefig(paperdir+\"/gauss.png\",overwrite=True,dpi=300)\n",
    "ell.sig,ell.stdq,ell.stdu,ell.r,ell.L,ell.p"
   ]
  },
  {
   "cell_type": "code",
   "execution_count": null,
   "metadata": {},
   "outputs": [],
   "source": []
  },
  {
   "cell_type": "code",
   "execution_count": null,
   "metadata": {},
   "outputs": [],
   "source": []
  },
  {
   "cell_type": "code",
   "execution_count": null,
   "metadata": {},
   "outputs": [],
   "source": []
  },
  {
   "cell_type": "code",
   "execution_count": null,
   "metadata": {},
   "outputs": [],
   "source": []
  },
  {
   "cell_type": "code",
   "execution_count": null,
   "metadata": {},
   "outputs": [],
   "source": []
  },
  {
   "cell_type": "code",
   "execution_count": null,
   "metadata": {},
   "outputs": [],
   "source": []
  },
  {
   "cell_type": "code",
   "execution_count": null,
   "metadata": {},
   "outputs": [],
   "source": []
  },
  {
   "cell_type": "code",
   "execution_count": null,
   "metadata": {},
   "outputs": [],
   "source": []
  },
  {
   "cell_type": "code",
   "execution_count": null,
   "metadata": {},
   "outputs": [],
   "source": []
  }
 ],
 "metadata": {
  "kernelspec": {
   "display_name": "Python 3",
   "language": "python",
   "name": "python3"
  },
  "language_info": {
   "codemirror_mode": {
    "name": "ipython",
    "version": 3
   },
   "file_extension": ".py",
   "mimetype": "text/x-python",
   "name": "python",
   "nbconvert_exporter": "python",
   "pygments_lexer": "ipython3",
   "version": "3.6.5"
  }
 },
 "nbformat": 4,
 "nbformat_minor": 2
}
