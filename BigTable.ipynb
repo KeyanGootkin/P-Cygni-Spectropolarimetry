{
 "cells": [
  {
   "cell_type": "code",
   "execution_count": 9,
   "metadata": {},
   "outputs": [],
   "source": [
    "import P_Cyg as pc\n",
    "import numpy as np\n",
    "import pandas as pd\n",
    "from glob import glob\n",
    "from astropy.time import Time"
   ]
  },
  {
   "cell_type": "code",
   "execution_count": 10,
   "metadata": {},
   "outputs": [],
   "source": [
    "find_detector = lambda files : [f[4:7]    for f in files]\n",
    "find_date = lambda files : [f[14:18]+'-'+f[18:20]+'-'+f[20:22]    for f in files]\n",
    "find_odate = lambda files : [f[63:67]+'-'+f[67:69]+'-'+f[69:71]    for f in files]\n",
    "sig = lambda x : float(\"{0:.3f}\".format(x))"
   ]
  },
  {
   "cell_type": "markdown",
   "metadata": {},
   "source": [
    "# H$\\alpha$"
   ]
  },
  {
   "cell_type": "markdown",
   "metadata": {},
   "source": [
    "### Observed"
   ]
  },
  {
   "cell_type": "code",
   "execution_count": 11,
   "metadata": {},
   "outputs": [],
   "source": [
    "datadir = 'C:/Users/Keyan/Desktop/Science/Data/P-Cygni/Data/'\n",
    "rtxt = glob(datadir + 'hpolccd*r_hw.fits.txt')\n",
    "btxt = glob(datadir + 'hpolccd*b_hw.fits.txt')\n",
    "rettxt = glob(datadir + '*ret*.txt')\n",
    "ccdtxt = []\n",
    "for rf in rtxt:\n",
    "    for bf in btxt:\n",
    "        if rf[63:71]==bf[63:71]:\n",
    "            ccdtxt.append(np.array([rf,bf]))\n",
    "ccddfs = [[pd.read_csv(f[0],delim_whitespace=True,header=0,names=[\"Wavelength\",\"Flux\",\"Q\",\"U\",\"Error\"]),pd.read_csv(f[1],delim_whitespace=True,header=0,names=[\"Wavelength\",\"Flux\",\"Q\",\"U\",\"Error\"])]    for f in ccdtxt]\n",
    "ccddfs = [pd.concat([p[0],p[1][p[1].Wavelength < 6100]]).sort_values(\"Wavelength\")    for p in ccddfs]\n",
    "retdfs = [pd.read_csv(f,delim_whitespace=True,header=0,names=[\"Wavelength\",\"Flux\",\"Q\",\"U\",\"Error\"])    for f in rettxt]\n",
    "obdfs = retdfs + ccddfs"
   ]
  },
  {
   "cell_type": "code",
   "execution_count": 12,
   "metadata": {},
   "outputs": [],
   "source": [
    "hmask = lambda df: df[(df.Wavelength>6540) & (df.Wavelength<6600)]\n",
    "ohdfs = [hmask(df)    for df in obdfs]"
   ]
  },
  {
   "cell_type": "code",
   "execution_count": 13,
   "metadata": {},
   "outputs": [],
   "source": [
    "ohq,ohu = [sig(sum(df.Q*(df.Error**-2))/sum(df.Error**-2))    for df in ohdfs],[sig(sum(df.U*(df.Error**-2))/sum(df.Error**-2))    for df in ohdfs]"
   ]
  },
  {
   "cell_type": "markdown",
   "metadata": {},
   "source": [
    "### Intrinsic"
   ]
  },
  {
   "cell_type": "code",
   "execution_count": 14,
   "metadata": {},
   "outputs": [],
   "source": [
    "intrinsic_dir = \"C:/Users/Keyan/Desktop/Science/Data/P-Cygni/Data/intrinsic_pols/\"\n",
    "files = glob(intrinsic_dir+\"*\")\n",
    "retfiles = [f    for f in files if f[69]=='o']\n",
    "rfiles = [f    for f in files if f[69]=='r']\n",
    "bfiles = [f    for f in files if f[69]=='b']\n",
    "matched = []\n",
    "for rf in rfiles:\n",
    "    for bf in bfiles:\n",
    "        if rf[64:69]==bf[64:69]:\n",
    "            matched.append(np.array([rf,bf]))\n",
    "matched = np.array(matched)\n",
    "mdfs = [[pd.read_csv(f[0]),pd.read_csv(f[1])]    for f in matched]\n",
    "mdfs = [pd.concat([p[0],p[1][p[1].Wavelength < 6100]]).sort_values(\"Wavelength\")    for p in mdfs]\n",
    "rdfs = [pd.read_csv(f)    for f in files if f[72]=='r']\n",
    "bdfs = [pd.read_csv(f)    for f in files if f[72]=='b']\n",
    "retdfs = [pd.read_csv(f)     for f in retfiles]\n",
    "alldfs = retdfs+mdfs\n",
    "t = [float(f[64:69])    for f in retfiles] + [float(f[0][64:69])    for f in matched]\n",
    "t = [round(x)    for x in t]\n",
    "od = find_odate(rettxt + list(np.array(ccdtxt)[:,0]))\n",
    "ot = Time(list(od),format='fits',location=(43,-89,0)).mjd"
   ]
  },
  {
   "cell_type": "code",
   "execution_count": 15,
   "metadata": {},
   "outputs": [],
   "source": [
    "ihdfs = [hmask(df)    for df in alldfs]"
   ]
  },
  {
   "cell_type": "code",
   "execution_count": 16,
   "metadata": {},
   "outputs": [],
   "source": [
    "ihq,ihu = [sig(sum(df.Q*(df.Error**-2))/sum(df.Error**-2))    for df in ihdfs],[sig(sum(df.U*(df.Error**-2))/sum(df.Error**-2))    for df in ihdfs]\n",
    "he = [sig(np.sqrt(np.sum(df.Error**2))/np.sqrt(df.Error.size))    for df in ihdfs]"
   ]
  },
  {
   "cell_type": "markdown",
   "metadata": {},
   "source": [
    "## Pfew"
   ]
  },
  {
   "cell_type": "code",
   "execution_count": 18,
   "metadata": {},
   "outputs": [],
   "source": [
    "pdir = datadir+\"synthetic_filters/\"\n",
    "pccd = pd.read_csv(pdir+\"pfew_ccd.txt\",delim_whitespace=True,names=[\"File/Night\",\"q\",\"u\",\"Error\"],header=0)\n",
    "pret = pd.read_csv(pdir+\"pfew_ret.txt\",delim_whitespace=True,names=[\"File/Night\",\"q\",\"u\",\"Error\"],header=0)\n",
    "pfew = pd.concat([pret,pccd]).reset_index().drop(columns='index').astype({\"q\":np.float64,\"u\":np.float64, \"Error\":np.float64})\n",
    "pq = [sig(q)    for q in pfew.q]\n",
    "pu = [sig(u)    for u in pfew.u]\n",
    "pe = [sig(e)    for e in pfew.Error]"
   ]
  },
  {
   "cell_type": "markdown",
   "metadata": {},
   "source": [
    "### H table"
   ]
  },
  {
   "cell_type": "code",
   "execution_count": 19,
   "metadata": {},
   "outputs": [],
   "source": [
    "htable = pd.DataFrame({\"MJD\":t,\n",
    "                       \"Date\":od,\n",
    "                       \"oq\":ohq,\n",
    "                       \"ou\":ohu,\n",
    "                       \"iq\":ihq,\n",
    "                       \"iu\":ihu,\n",
    "                       \"Error\":he,\n",
    "                       \"pq\":pq,\n",
    "                       \"pu\":pu,\n",
    "                       \"pe\":pe},index=None)"
   ]
  },
  {
   "cell_type": "markdown",
   "metadata": {},
   "source": [
    "# $V$-Band"
   ]
  },
  {
   "cell_type": "markdown",
   "metadata": {},
   "source": [
    "### Observed"
   ]
  },
  {
   "cell_type": "code",
   "execution_count": 20,
   "metadata": {},
   "outputs": [],
   "source": [
    "ccd_dir = 'C:/Users/Keyan/Desktop/Science/Data/P-Cygni/Data/synthetic_filters/VBand_CCD_ISP.txt'\n",
    "ret_dir = 'C:/Users/Keyan/Desktop/Science/Data/P-Cygni/Data/synthetic_filters/VBand_Reticon_ISP.txt'"
   ]
  },
  {
   "cell_type": "code",
   "execution_count": 21,
   "metadata": {},
   "outputs": [],
   "source": [
    "ccd = pd.read_csv(ccd_dir,delim_whitespace=True,names=[\"File/Night\",\"q\",\"u\",\"Internal_Error\",\"Systematic_Error\"])\n",
    "ret = pd.read_csv(ret_dir,delim_whitespace=True,names=[\"File/Night\",\"q\",\"u\",\"Internal_Error\",\"Systematic_Error\"])\n",
    "vtable = pd.concat([ret,ccd]).reset_index().drop(columns='index')\n",
    "vtable[\"Detector\"] = find_detector(vtable[\"File/Night\"])\n",
    "vtable[\"Date\"] = find_date(vtable[\"File/Night\"])\n",
    "vtable[\"MJD\"] = Time(list(vtable.Date.values),format='fits',location=(43,-89,0)).mjd"
   ]
  },
  {
   "cell_type": "code",
   "execution_count": 22,
   "metadata": {},
   "outputs": [],
   "source": [
    "vtable[\"Internal_Error\"] = [sig(x)    for x in vtable[\"Internal_Error\"]]\n",
    "vtable[\"Systematic_Error\"] = [sig(x)    for x in vtable[\"Systematic_Error\"]]\n",
    "vtable.q = [sig(x)    for x in vtable.q]\n",
    "vtable.u = [sig(x)    for x in vtable.u]"
   ]
  },
  {
   "cell_type": "markdown",
   "metadata": {},
   "source": [
    "### Intrinsic"
   ]
  },
  {
   "cell_type": "code",
   "execution_count": 23,
   "metadata": {},
   "outputs": [],
   "source": [
    "ccddf = pd.read_csv('C:/Users/Keyan/Desktop/Science/Data/P-Cygni/Data/synthetic_filters/VBand_CCD_Int.txt',\n",
    "                delim_whitespace=True,names=[\"File/Night\",\"q\",\"u\",\"Internal_Error\",\"Systematic_Error\"])\n",
    "retdf = pd.read_csv('C:/Users/Keyan/Desktop/Science/Data/P-Cygni/Data/synthetic_filters/VBand_Reticon_Int.txt',\n",
    "                delim_whitespace=True,names=[\"File/Night\",\"q\",\"u\",\"Internal_Error\",\"Systematic_Error\"])"
   ]
  },
  {
   "cell_type": "code",
   "execution_count": 24,
   "metadata": {},
   "outputs": [],
   "source": [
    "intvtable = pd.concat([retdf,ccddf]).reset_index().drop(columns='index')\n",
    "intvtable[\"Detector\"] = find_detector(intvtable[\"File/Night\"])\n",
    "intvtable[\"Date\"] = find_date(intvtable[\"File/Night\"])\n",
    "intvtable[\"MJD\"] = Time(list(intvtable.Date.values),format='fits',location=(43,-89,0)).mjd\n",
    "intvtable[\"Internal_Error\"] = [sig(x)    for x in intvtable[\"Internal_Error\"]]\n",
    "intvtable[\"Systematic_Error\"] = [sig(x)    for x in intvtable[\"Systematic_Error\"]]\n",
    "intvtable.q = [sig(x)    for x in intvtable.q]\n",
    "intvtable.u = [sig(x)    for x in intvtable.u]"
   ]
  },
  {
   "cell_type": "markdown",
   "metadata": {},
   "source": [
    "### Vtable"
   ]
  },
  {
   "cell_type": "code",
   "execution_count": 25,
   "metadata": {},
   "outputs": [],
   "source": [
    "V_table = pd.DataFrame({\"Detector\":vtable.Detector,\n",
    "                        \"MJD\":vtable.MJD,\n",
    "                        \"Date\":vtable.Date,\n",
    "                        \"oq\":vtable.q,\n",
    "                        \"ou\":vtable.u,\n",
    "                        \"Systematic Error\":vtable.Systematic_Error,\n",
    "                        \"Internal Error\":vtable.Internal_Error,\n",
    "                        \"iq\":intvtable.q,\n",
    "                        \"iu\":intvtable.u,\n",
    "                        \"intSystematic Error\":intvtable.Systematic_Error,\n",
    "                        \"intInternal Error\":intvtable.Internal_Error},index=None)"
   ]
  },
  {
   "cell_type": "markdown",
   "metadata": {},
   "source": [
    "# Big Table"
   ]
  },
  {
   "cell_type": "code",
   "execution_count": 26,
   "metadata": {},
   "outputs": [
    {
     "name": "stdout",
     "output_type": "stream",
     "text": [
      "76\n",
      "\\begin{tabular}{lrlrrrrrrrrrrrrrr}\n",
      "\\toprule\n",
      "Detector &    MJD &        Date &    ovq &    ovu &    ivq &    ivu &    sve &    ive &    ohq &    ohu &    ihq &    ihu &     he &     pq &     pu &     pe \\\\\n",
      "\\midrule\n",
      " Reticon &  47668 &  1989-05-22 &  0.305 &  0.997 & -0.134 & -0.135 &  0.020 &  0.004 &  0.336 &  1.005 & -0.057 & -0.018 &  0.133 &  0.046 &  0.027 &  0.172 \\\\\n",
      " Reticon &  47672 &  1989-05-26 &  0.611 &  1.057 &  0.172 & -0.076 &  0.020 &  0.004 &  0.469 &  1.058 &  0.108 &  0.059 &  0.091 & -0.110 &  0.115 &  0.108 \\\\\n",
      " Reticon &  47697 &  1989-06-20 &  0.289 &  1.128 & -0.150 & -0.005 &  0.020 &  0.004 &  0.209 &  0.959 & -0.153 & -0.045 &  0.093 & -0.227 & -0.143 &  0.101 \\\\\n",
      " Reticon &  47714 &  1989-07-07 &  0.437 &  0.863 & -0.002 & -0.269 &  0.020 &  0.005 &  0.255 &  0.948 & -0.128 & -0.056 &  0.116 & -0.138 & -0.099 &  0.131 \\\\\n",
      " Reticon &  47808 &  1989-10-09 &  0.527 &  1.106 &  0.088 & -0.026 &  0.020 &  0.004 &  0.389 &  1.009 & -0.003 & -0.013 &  0.092 & -0.098 & -0.099 &  0.099 \\\\\n",
      " Reticon &  47822 &  1989-10-23 &  0.174 &  0.826 & -0.265 & -0.306 &  0.020 &  0.003 &  0.287 &  0.864 & -0.091 & -0.142 &  0.060 &  0.028 & -0.168 &  0.064 \\\\\n",
      " Reticon &  47913 &  1990-01-22 &  0.716 &  1.317 &  0.276 &  0.184 &  0.020 &  0.007 &  0.459 &  0.988 &  0.087 & -0.015 &  0.152 & -0.064 & -0.292 &  0.159 \\\\\n",
      " Reticon &  47918 &  1990-01-27 &  0.547 &  1.056 &  0.108 & -0.076 &  0.020 &  0.003 &  0.480 &  0.910 &  0.100 & -0.100 &  0.075 &  0.020 & -0.154 &  0.084 \\\\\n",
      " Reticon &  47919 &  1990-01-28 &  0.675 &  1.111 &  0.236 & -0.021 &  0.020 &  0.003 &  0.468 &  1.055 &  0.087 &  0.050 &  0.067 & -0.027 &  0.060 &  0.079 \\\\\n",
      " Reticon &  47920 &  1990-01-29 &  0.762 &  1.027 &  0.323 & -0.105 &  0.020 &  0.006 &  0.555 &  1.095 &  0.175 &  0.087 &  0.108 &  0.050 &  0.101 &  0.133 \\\\\n",
      " Reticon &  47942 &  1990-02-20 &  0.202 &  1.097 & -0.237 & -0.035 &  0.020 &  0.004 &  0.253 &  0.966 & -0.123 & -0.037 &  0.091 & -0.081 & -0.110 &  0.100 \\\\\n",
      " Reticon &  47950 &  1990-02-28 &  0.353 &  1.387 & -0.086 &  0.255 &  0.020 &  0.003 &  0.411 &  1.136 &  0.031 &  0.138 &  0.083 &  0.010 & -0.055 &  0.091 \\\\\n",
      " Reticon &  47987 &  1990-04-06 &  0.506 &  1.197 &  0.067 &  0.065 &  0.020 &  0.004 &  0.427 &  1.075 &  0.048 &  0.072 &  0.100 &  0.049 & -0.082 &  0.114 \\\\\n",
      " Reticon &  47988 &  1990-04-07 &  0.558 &  1.155 &  0.119 &  0.023 &  0.020 &  0.004 &  0.417 &  1.092 &  0.041 &  0.089 &  0.066 & -0.093 & -0.096 &  0.079 \\\\\n",
      " Reticon &  47994 &  1990-04-13 &  0.355 &  0.955 & -0.084 & -0.178 &  0.020 &  0.003 &  0.366 &  1.016 & -0.011 & -0.005 &  0.058 &  0.007 &  0.028 &  0.064 \\\\\n",
      " Reticon &  48003 &  1990-04-22 &  0.341 &  1.367 & -0.098 &  0.234 &  0.020 &  0.006 &  0.380 &  1.152 &  0.008 &  0.131 &  0.185 & -0.003 & -0.168 &  0.194 \\\\\n",
      " Reticon &  48018 &  1990-05-07 &  0.282 &  0.965 & -0.158 & -0.167 &  0.020 &  0.007 &  0.409 &  0.885 &  0.016 & -0.127 &  0.179 &  0.169 & -0.131 &  0.180 \\\\\n",
      " Reticon &  48047 &  1990-06-05 &  0.556 &  0.977 &  0.116 & -0.155 &  0.020 &  0.015 &  0.438 &  1.000 &  0.063 &  0.002 &  0.378 &  0.250 &  0.168 &  0.446 \\\\\n",
      " Reticon &  48057 &  1990-06-15 &  0.300 &  1.223 & -0.139 &  0.091 &  0.020 &  0.002 &  0.365 &  1.091 & -0.014 &  0.085 &  0.054 &  0.104 & -0.004 &  0.058 \\\\\n",
      " Reticon &  48088 &  1990-07-16 &  0.331 &  1.203 & -0.108 &  0.071 &  0.020 &  0.003 &  0.262 &  1.054 & -0.105 &  0.063 &  0.059 & -0.161 & -0.077 &  0.069 \\\\\n",
      " Reticon &  48133 &  1990-08-30 &  0.759 &  1.077 &  0.320 & -0.056 &  0.020 &  0.003 &  0.590 &  0.969 &  0.220 & -0.046 &  0.053 &  0.201 & -0.121 &  0.067 \\\\\n",
      " Reticon &  48150 &  1990-09-16 &  0.302 &  1.153 & -0.137 &  0.020 &  0.020 &  0.002 &  0.308 &  1.004 & -0.059 &  0.006 &  0.044 &  0.012 & -0.076 &  0.058 \\\\\n",
      " Reticon &  48159 &  1990-09-25 &  0.476 &  1.364 &  0.036 &  0.232 &  0.020 &  0.002 &  0.366 &  1.120 & -0.001 &  0.134 &  0.045 &  0.058 & -0.117 &  0.063 \\\\\n",
      " Reticon &  48224 &  1990-11-29 &  0.472 &  0.962 &  0.033 & -0.170 &  0.020 &  0.002 &  0.405 &  0.904 &  0.012 & -0.085 &  0.046 & -0.081 & -0.114 &  0.063 \\\\\n",
      " Reticon &  48231 &  1990-12-06 &  0.275 &  0.495 & -0.164 & -0.637 &  0.020 &  0.002 &  0.298 &  0.740 & -0.094 & -0.270 &  0.036 & -0.066 &  0.089 &  0.047 \\\\\n",
      " Reticon &  48235 &  1990-12-10 &  0.099 &  1.225 & -0.340 &  0.092 &  0.020 &  0.002 &  0.285 &  0.970 & -0.117 & -0.032 &  0.037 &  0.085 & -0.225 &  0.046 \\\\\n",
      " Reticon &  48320 &  1991-03-05 &  0.279 &  1.290 & -0.161 &  0.158 &  0.020 &  0.003 &  0.316 &  1.026 & -0.070 &  0.042 &  0.078 &  0.002 & -0.090 &  0.088 \\\\\n",
      " Reticon &  48444 &  1991-07-07 &  0.523 &  1.286 &  0.084 &  0.154 &  0.020 &  0.005 &  0.344 &  1.087 & -0.120 &  0.079 &  0.111 & -0.086 &  0.007 &  0.128 \\\\\n",
      " Reticon &  48473 &  1991-08-05 &  0.537 &  0.973 &  0.098 & -0.159 &  0.020 &  0.014 &  0.661 &  0.933 &  0.119 &  0.124 &  0.266 &  0.036 &  0.094 &  0.360 \\\\\n",
      " Reticon &  48516 &  1991-09-17 &  0.596 &  1.150 &  0.156 &  0.018 &  0.020 &  0.002 &  0.415 &  1.069 &  0.042 &  0.066 &  0.043 & -0.034 &  0.032 &  0.045 \\\\\n",
      " Reticon &  48520 &  1991-09-21 &  0.135 &  0.817 & -0.305 & -0.315 &  0.020 &  0.002 &  0.292 &  0.877 & -0.122 & -0.154 &  0.046 &  0.022 & -0.032 &  0.046 \\\\\n",
      " Reticon &  48522 &  1991-09-23 &  0.024 &  1.021 & -0.415 & -0.111 &  0.020 &  0.002 &  0.255 &  0.885 & -0.161 & -0.112 &  0.038 &  0.016 & -0.142 &  0.040 \\\\\n",
      " Reticon &  48525 &  1991-09-26 &  0.799 &  1.336 &  0.360 &  0.203 &  0.020 &  0.004 &  0.442 &  1.143 &  0.090 &  0.107 &  0.099 & -0.122 & -0.036 &  0.098 \\\\\n",
      " Reticon &  48526 &  1991-09-27 &  0.843 &  1.348 &  0.404 &  0.216 &  0.020 &  0.002 &  0.517 &  1.096 &  0.166 &  0.101 &  0.043 & -0.137 & -0.010 &  0.053 \\\\\n",
      " Reticon &  48527 &  1991-09-28 &  0.796 &  1.226 &  0.357 &  0.094 &  0.020 &  0.002 &  0.483 &  1.028 &  0.097 &  0.032 &  0.041 & -0.111 & -0.085 &  0.040 \\\\\n",
      " Reticon &  48528 &  1991-09-29 &  0.740 &  1.089 &  0.301 & -0.044 &  0.020 &  0.002 &  0.476 &  1.056 &  0.101 &  0.059 &  0.042 & -0.039 &  0.058 &  0.041 \\\\\n",
      " Reticon &  48529 &  1991-09-30 &  0.659 &  1.038 &  0.220 & -0.094 &  0.020 &  0.003 &  0.441 &  0.977 &  0.090 & -0.020 &  0.055 & -0.043 &  0.006 &  0.055 \\\\\n",
      " Reticon &  48530 &  1991-10-01 &  0.669 &  1.047 &  0.230 & -0.086 &  0.020 &  0.002 &  0.453 &  0.950 &  0.107 & -0.071 &  0.054 & -0.017 & -0.109 &  0.051 \\\\\n",
      " Reticon &  49521 &  1994-06-18 &  0.432 &  0.732 & -0.007 & -0.400 &  0.020 &  0.008 &  0.417 &  0.794 &  0.028 & -0.221 &  0.183 &  0.092 & -0.205 &  0.201 \\\\\n",
      " Reticon &  49530 &  1994-06-27 &  0.551 &  0.790 &  0.112 & -0.342 &  0.020 &  0.005 &  0.527 &  0.838 &  0.171 & -0.182 &  0.396 &  0.169 & -0.273 &  0.299 \\\\\n",
      " Reticon &  49539 &  1994-07-06 &  0.770 &  0.694 &  0.331 & -0.438 &  0.020 &  0.011 &  0.578 &  0.982 &  0.167 & -0.064 &  0.724 &  0.191 &  0.325 &  0.684 \\\\\n",
      " Reticon &  49573 &  1994-08-09 &  0.222 &  0.974 & -0.217 & -0.158 &  0.020 &  0.006 &  0.351 &  0.902 & -0.027 & -0.107 &  0.120 &  0.019 & -0.248 &  0.154 \\\\\n",
      " Reticon &  49606 &  1994-09-11 &  0.156 &  1.221 & -0.283 &  0.089 &  0.020 &  0.004 &  0.320 &  1.002 & -0.068 &  0.005 &  0.119 &  0.137 & -0.188 &  0.156 \\\\\n",
      " Reticon &  49636 &  1994-10-11 &  0.208 &  1.059 & -0.232 & -0.074 &  0.020 &  0.003 &  0.186 &  0.922 & -0.188 & -0.084 &  0.079 & -0.077 & -0.158 &  0.101 \\\\\n",
      " Reticon &  49666 &  1994-11-10 &  0.159 &  1.047 & -0.280 & -0.085 &  0.020 &  0.003 &  0.241 &  0.898 & -0.141 & -0.100 &  0.106 & -0.003 & -0.263 &  0.133 \\\\\n",
      " Reticon &  49690 &  1994-12-04 &  0.142 &  0.901 & -0.297 & -0.231 &  0.020 &  0.004 &  0.238 &  0.838 & -0.164 & -0.161 &  0.099 &  0.068 & -0.227 &  0.134 \\\\\n",
      "     CCD &  49777 &  1995-03-01 &  0.291 &  1.241 & -0.125 &  0.121 &  0.006 &  0.005 &  0.411 &  1.083 &  0.037 &  0.085 &  0.077 &  0.037 &  0.002 &  0.058 \\\\\n",
      "     CCD &  49779 &  1995-03-03 &  0.308 &  1.140 & -0.109 &  0.018 &  0.006 &  0.003 &  0.318 &  1.042 & -0.052 &  0.016 &  0.046 & -0.044 & -0.035 &  0.028 \\\\\n",
      "     CCD &  49785 &  1995-03-09 &  0.051 &  1.169 & -0.366 &  0.048 &  0.006 &  0.002 &  0.216 &  1.018 & -0.155 &  0.031 &  0.051 & -0.093 &  0.051 &  0.041 \\\\\n",
      "     CCD &  49788 &  1995-03-12 &  0.285 &  1.577 & -0.132 &  0.455 &  0.006 &  0.003 &  0.300 &  1.139 & -0.079 &  0.167 &  0.079 & -0.085 & -0.041 &  0.053 \\\\\n",
      "     CCD &  49891 &  1995-06-23 &  0.600 &  1.110 &  0.184 & -0.010 &  0.006 &  0.003 &  0.477 &  1.007 &  0.110 & -0.000 &  0.069 & -0.026 & -0.025 &  0.067 \\\\\n",
      "     CCD &  49913 &  1995-07-15 &  0.339 &  1.247 & -0.077 &  0.127 &  0.010 &  0.003 &  0.387 &  1.087 &  0.022 &  0.070 &  0.044 &  0.012 & -0.059 &  0.042 \\\\\n",
      "     CCD &  49940 &  1995-08-11 &  0.283 &  1.055 & -0.133 & -0.066 &  0.010 &  0.003 &  0.385 &  0.983 & -0.012 & -0.013 &  0.049 & -0.017 &  0.021 &  0.050 \\\\\n",
      "     CCD &  49965 &  1995-09-05 &  0.482 &  1.381 &  0.066 &  0.261 &  0.010 &  0.003 &  0.405 &  1.056 &  0.043 &  0.040 &  0.074 & -0.063 & -0.032 &  0.076 \\\\\n",
      "     CCD &  49977 &  1995-09-17 &  0.666 &  0.961 &  0.249 & -0.160 &  0.010 &  0.002 &  0.507 &  0.884 &  0.162 & -0.136 &  0.050 & -0.138 & -0.007 &  0.050 \\\\\n",
      "     CCD &  49992 &  1995-10-02 &  0.210 &  1.049 & -0.207 & -0.071 &  0.010 &  0.002 &  0.291 &  0.941 & -0.076 & -0.102 &  0.038 & -0.024 &  0.053 &  0.041 \\\\\n",
      "     CCD &  50009 &  1995-10-19 &  0.242 &  1.008 & -0.174 & -0.112 &  0.010 &  0.004 &  0.331 &  0.998 & -0.064 &  0.009 &  0.050 &  0.010 &  0.014 &  0.052 \\\\\n",
      "     CCD &  50036 &  1995-11-15 &  0.382 &  1.181 & -0.034 &  0.060 &  0.010 &  0.002 &  0.380 &  0.990 &  0.019 & -0.033 &  0.042 & -0.083 & -0.003 &  0.051 \\\\\n",
      "     CCD &  50055 &  1995-12-04 &  0.289 &  1.222 & -0.127 &  0.101 &  0.010 &  0.003 &  0.321 &  0.984 & -0.062 &  0.012 &  0.051 & -0.057 & -0.089 &  0.061 \\\\\n",
      "     CCD &  50733 &  1997-10-12 &  0.312 &  1.077 & -0.105 & -0.043 &  0.009 &  0.003 &  0.352 &  1.022 & -0.031 &  0.020 &  0.040 &  0.165 &  0.193 &  0.084 \\\\\n",
      "     CCD &  50803 &  1997-12-21 &  0.476 &  1.173 &  0.059 &  0.052 &  0.009 &  0.002 &  0.434 &  1.015 &  0.048 &  0.009 &  0.040 & -0.037 & -0.304 &  0.073 \\\\\n",
      "     CCD &  51010 &  1998-07-16 &  0.411 &  1.045 & -0.006 & -0.075 &  0.010 &  0.002 &  0.347 &  0.961 & -0.022 & -0.030 &  0.041 & -0.093 & -0.022 &  0.068 \\\\\n",
      "     CCD &  51034 &  1998-08-09 &  0.711 &  0.966 &  0.294 & -0.155 &  0.010 &  0.003 &  0.532 &  1.006 &  0.164 & -0.014 &  0.043 & -0.323 &  0.256 &  0.075 \\\\\n",
      "     CCD &  51066 &  1998-09-10 &  0.470 &  1.170 &  0.053 &  0.049 &  0.010 &  0.002 &  0.447 &  1.078 &  0.083 &  0.065 &  0.042 &  0.043 &  0.151 &  0.067 \\\\\n",
      "     CCD &  51072 &  1998-09-16 &  0.390 &  1.203 & -0.027 &  0.082 &  0.010 &  0.002 &  0.395 &  1.043 &  0.003 &  0.033 &  0.042 &  0.023 & -0.127 &  0.067 \\\\\n",
      "     CCD &  51160 &  1998-12-13 &  0.518 &  1.277 &  0.101 &  0.156 &  0.008 &  0.003 &  0.459 &  1.026 &  0.072 &  0.078 &  0.041 & -0.024 & -0.052 &  0.048 \\\\\n",
      "     CCD &  51177 &  1998-12-30 &  0.265 &  1.069 & -0.152 & -0.052 &  0.008 &  0.004 &  0.352 &  1.002 & -0.013 &  0.017 &  0.079 & -0.012 &  0.085 &  0.059 \\\\\n",
      "     CCD &  52533 &  2002-09-16 &  0.210 &  0.970 & -0.206 & -0.151 &  0.012 &  0.004 &  0.231 &  1.000 & -0.141 & -0.024 &  0.068 & -0.151 & -0.012 &  0.050 \\\\\n",
      "     CCD &  52534 &  2002-09-17 &  0.089 &  0.949 & -0.328 & -0.171 &  0.012 &  0.004 &  0.348 &  1.027 & -0.048 &  0.002 &  0.078 &  0.126 &  0.056 &  0.056 \\\\\n",
      "     CCD &  52541 &  2002-09-24 &  0.236 &  1.029 & -0.181 & -0.091 &  0.012 &  0.004 &  0.237 &  0.936 & -0.163 & -0.040 &  0.075 & -0.153 & -0.095 &  0.058 \\\\\n",
      "     CCD &  52542 &  2002-09-25 &  0.237 &  1.031 & -0.179 & -0.090 &  0.012 &  0.006 &  0.274 &  1.051 & -0.086 &  0.072 &  0.101 & -0.053 & -0.018 &  0.075 \\\\\n",
      "     CCD &  52561 &  2002-10-14 &  0.589 &  1.035 &  0.172 & -0.085 &  0.012 &  0.004 &  0.374 &  0.990 &  0.030 & -0.017 &  0.068 & -0.181 & -0.005 &  0.056 \\\\\n",
      "     CCD &  52562 &  2002-10-15 &  0.487 &  1.117 &  0.070 & -0.003 &  0.012 &  0.004 &  0.389 &  0.990 &  0.003 &  0.008 &  0.058 & -0.078 & -0.072 &  0.048 \\\\\n",
      "     CCD &  52579 &  2002-11-01 &  0.293 &  0.919 & -0.123 & -0.201 &  0.012 &  0.004 &  0.336 &  0.911 & -0.024 & -0.125 &  0.071 & -0.070 & -0.112 &  0.055 \\\\\n",
      "     CCD &  52583 &  2002-11-05 &  0.176 &  0.953 & -0.241 & -0.168 &  0.012 &  0.005 &  0.199 &  0.993 & -0.138 & -0.002 &  0.193 & -0.082 &  0.031 &  0.147 \\\\\n",
      "     CCD &  52586 &  2002-11-08 &  0.449 &  0.839 &  0.032 & -0.282 &  0.012 &  0.004 &  0.371 &  0.884 & -0.014 & -0.122 &  0.063 &  0.023 & -0.134 &  0.043 \\\\\n",
      "\\bottomrule\n",
      "\\end{tabular}\n",
      "\n"
     ]
    }
   ],
   "source": [
    "dformat = lambda dlist: [\"Reticon\" if d == 'ret' else \"CCD\"    for d in dlist]\n",
    "bigtable = pd.DataFrame({\"Detector\":dformat(vtable.Detector),\n",
    "                        \"MJD\":htable.MJD,\n",
    "                         \"Date\":htable.Date,\n",
    "                        \"ovq\":V_table.oq,\n",
    "                        \"ovu\":V_table.ou,\n",
    "                         \"ivq\":V_table.iq,\n",
    "                         \"ivu\":V_table.iu,\n",
    "                        \"sve\":V_table[\"Systematic Error\"],\n",
    "                         \"ive\":V_table[\"Internal Error\"],\n",
    "                        \"ohq\":htable.oq,\n",
    "                        \"ohu\":htable.ou,\n",
    "                        \"ihq\":htable.iq,\n",
    "                        \"ihu\":htable.iu,\n",
    "                         \"he\":htable.Error,\n",
    "                        \"pq\":htable.pq,\n",
    "                        \"pu\":htable.pu,\n",
    "                        \"pe\":htable.pe}, index=None)\n",
    "bigtable.to_csv(\"C:/Users/Keyan/Desktop/Science/Data/P-Cygni/Data/bigtable.txt\")\n",
    "print(len(bigtable))\n",
    "print(bigtable.to_latex(index=False))"
   ]
  },
  {
   "cell_type": "code",
   "execution_count": null,
   "metadata": {},
   "outputs": [],
   "source": []
  },
  {
   "cell_type": "code",
   "execution_count": null,
   "metadata": {},
   "outputs": [],
   "source": []
  },
  {
   "cell_type": "code",
   "execution_count": null,
   "metadata": {},
   "outputs": [],
   "source": []
  }
 ],
 "metadata": {
  "kernelspec": {
   "display_name": "Python 3",
   "language": "python",
   "name": "python3"
  },
  "language_info": {
   "codemirror_mode": {
    "name": "ipython",
    "version": 3
   },
   "file_extension": ".py",
   "mimetype": "text/x-python",
   "name": "python",
   "nbconvert_exporter": "python",
   "pygments_lexer": "ipython3",
   "version": "3.6.5"
  }
 },
 "nbformat": 4,
 "nbformat_minor": 2
}
