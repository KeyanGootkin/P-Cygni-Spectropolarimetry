{
 "cells": [
  {
   "cell_type": "code",
   "execution_count": 1,
   "metadata": {},
   "outputs": [],
   "source": [
    "import P_Cyg as pc\n",
    "import numpy as np\n",
    "import pandas as pd\n",
    "from glob import glob\n",
    "from astropy.time import Time"
   ]
  },
  {
   "cell_type": "code",
   "execution_count": 2,
   "metadata": {},
   "outputs": [],
   "source": [
    "find_detector = lambda files : [f[4:7]    for f in files]\n",
    "find_date = lambda files : [f[14:18]+'-'+f[18:20]+'-'+f[20:22]    for f in files]\n",
    "sig = lambda x : float(\"{0:.3f}\".format(x))"
   ]
  },
  {
   "cell_type": "markdown",
   "metadata": {},
   "source": [
    "# H$\\alpha$"
   ]
  },
  {
   "cell_type": "markdown",
   "metadata": {},
   "source": [
    "### Observed"
   ]
  },
  {
   "cell_type": "code",
   "execution_count": 3,
   "metadata": {},
   "outputs": [],
   "source": [
    "datadir = 'C:/Users/Keyan/Desktop/Science/Data/P-Cygni/Data/'\n",
    "rtxt = glob(datadir + 'hpolccd*r_hw.fits.txt')\n",
    "btxt = glob(datadir + 'hpolccd*b_hw.fits.txt')\n",
    "rettxt = glob(datadir + '*ret*.txt')\n",
    "ccdtxt = []\n",
    "for rf in rtxt:\n",
    "    for bf in btxt:\n",
    "        if rf[63:71]==bf[63:71]:\n",
    "            ccdtxt.append([rf,bf])\n",
    "ccddfs = [[pd.read_csv(f[0],delim_whitespace=True,header=0,names=[\"Wavelength\",\"Flux\",\"Q\",\"U\",\"Error\"]),pd.read_csv(f[1],delim_whitespace=True,header=0,names=[\"Wavelength\",\"Flux\",\"Q\",\"U\",\"Error\"])]    for f in ccdtxt]\n",
    "ccddfs = [pd.concat([p[0],p[1][p[1].Wavelength < 6100]]).sort_values(\"Wavelength\")    for p in ccddfs]\n",
    "retdfs = [pd.read_csv(f,delim_whitespace=True,header=0,names=[\"Wavelength\",\"Flux\",\"Q\",\"U\",\"Error\"])    for f in rettxt]\n",
    "obdfs = retdfs + ccddfs"
   ]
  },
  {
   "cell_type": "code",
   "execution_count": 4,
   "metadata": {},
   "outputs": [],
   "source": [
    "hmask = lambda df: df[(df.Wavelength>6540) & (df.Wavelength<6600)]\n",
    "ohdfs = [hmask(df)    for df in obdfs]"
   ]
  },
  {
   "cell_type": "code",
   "execution_count": 5,
   "metadata": {},
   "outputs": [],
   "source": [
    "ohq,ohu = [sig(df.Q.mean())    for df in ohdfs],[sig(df.U.mean())    for df in ohdfs]"
   ]
  },
  {
   "cell_type": "markdown",
   "metadata": {},
   "source": [
    "### Intrinsic"
   ]
  },
  {
   "cell_type": "code",
   "execution_count": 6,
   "metadata": {},
   "outputs": [],
   "source": [
    "intrinsic_dir = \"C:/Users/Keyan/Desktop/Science/Data/P-Cygni/Data/intrinsic_pols/\"\n",
    "files = glob(intrinsic_dir+\"*\")\n",
    "retfiles = [f    for f in files if f[72]=='o']\n",
    "rfiles = [f    for f in files if f[72]=='r']\n",
    "bfiles = [f    for f in files if f[72]=='b']\n",
    "matched = []\n",
    "for rf in rfiles:\n",
    "    for bf in bfiles:\n",
    "        if rf[64:69]==bf[64:69]:\n",
    "            matched.append([rf,bf])\n",
    "matched = np.array(matched)\n",
    "mdfs = [[pd.read_csv(f[0]),pd.read_csv(f[1])]    for f in matched]\n",
    "mdfs = [pd.concat([p[0],p[1][p[1].Wavelength < 6100]]).sort_values(\"Wavelength\")    for p in mdfs]\n",
    "rdfs = [pd.read_csv(f)    for f in files if f[72]=='r']\n",
    "bdfs = [pd.read_csv(f)    for f in files if f[72]=='b']\n",
    "retdfs = [pd.read_csv(f)     for f in retfiles]\n",
    "alldfs = retdfs+mdfs\n",
    "t = [float(f[64:69])    for f in retfiles] + [float(f[0][64:69])    for f in matched]\n",
    "t = [round(x)    for x in t]"
   ]
  },
  {
   "cell_type": "code",
   "execution_count": 7,
   "metadata": {},
   "outputs": [],
   "source": [
    "ihdfs = [hmask(df)    for df in alldfs]"
   ]
  },
  {
   "cell_type": "code",
   "execution_count": 8,
   "metadata": {},
   "outputs": [],
   "source": [
    "ihq,ihu = [sig(df.Q.mean())    for df in ihdfs],[sig(df.U.mean())    for df in ihdfs]\n",
    "he = [sig(np.sqrt(np.sum(df.Error**2))/df.Error.size)    for df in ihdfs]"
   ]
  },
  {
   "cell_type": "markdown",
   "metadata": {},
   "source": [
    "## Pfew"
   ]
  },
  {
   "cell_type": "code",
   "execution_count": 9,
   "metadata": {},
   "outputs": [],
   "source": [
    "pq,pu,ppol,ppos=np.array(pc.pfew(alldfs))"
   ]
  },
  {
   "cell_type": "markdown",
   "metadata": {},
   "source": [
    "### H table"
   ]
  },
  {
   "cell_type": "code",
   "execution_count": 10,
   "metadata": {},
   "outputs": [],
   "source": [
    "htable = pd.DataFrame({\"MJD\":t,\n",
    "                       \"oq\":ohq,\n",
    "                       \"ou\":ohu,\n",
    "                      \"iq\":ihq,\n",
    "                      \"iu\":ihu,\n",
    "                      \"Error\":he,\n",
    "                      \"pq\":pq,\n",
    "                      \"pu\":pu},index=None)\n",
    "htable = htable.drop([27,64]).reset_index()"
   ]
  },
  {
   "cell_type": "markdown",
   "metadata": {},
   "source": [
    "# $V$-Band"
   ]
  },
  {
   "cell_type": "markdown",
   "metadata": {},
   "source": [
    "### Observed"
   ]
  },
  {
   "cell_type": "code",
   "execution_count": 11,
   "metadata": {},
   "outputs": [],
   "source": [
    "ccd_dir = 'C:/Users/Keyan/Desktop/Science/Data/P-Cygni/Data/synthetic_filters/VBand_CCD_WithErrors.txt'\n",
    "ret_dir = 'C:/Users/Keyan/Desktop/Science/Data/P-Cygni/Data/synthetic_filters/VBand_Reticon_WithErrors.txt'"
   ]
  },
  {
   "cell_type": "code",
   "execution_count": 12,
   "metadata": {},
   "outputs": [],
   "source": [
    "ccd = pd.read_csv(ccd_dir,delim_whitespace=True)\n",
    "ret = pd.read_csv(ret_dir,delim_whitespace=True)\n",
    "vtable = pd.concat([ret,ccd]).reset_index().drop(columns='index')\n",
    "vtable[\"Detector\"] = find_detector(vtable[\"File/Night\"])\n",
    "vtable[\"Date\"] = find_date(vtable[\"File/Night\"])\n",
    "vtable[\"MJD\"] = Time(list(vtable.Date.values),format='fits',location=(43,-89,0)).mjd\n",
    "vtable[\"Error\"] = np.sqrt(vtable.Internal_Error **2 + vtable.Systematic_Error **2)"
   ]
  },
  {
   "cell_type": "code",
   "execution_count": 13,
   "metadata": {},
   "outputs": [],
   "source": [
    "vtable[\"Error\"] = [sig(x)    for x in vtable[\"Error\"]]\n",
    "vtable.q = [sig(x)    for x in vtable.q]\n",
    "vtable.u = [sig(x)    for x in vtable.u]\n"
   ]
  },
  {
   "cell_type": "markdown",
   "metadata": {},
   "source": [
    "### Intrinsic"
   ]
  },
  {
   "cell_type": "markdown",
   "metadata": {},
   "source": [
    "### Vtable"
   ]
  },
  {
   "cell_type": "code",
   "execution_count": 14,
   "metadata": {},
   "outputs": [],
   "source": [
    "vtable = pd.DataFrame({\"Detector\":vtable.Detector,\n",
    "                      \"MJD\":vtable.MJD,\n",
    "                      \"q\":vtable.q,\n",
    "                      \"u\":vtable.u,\n",
    "                      \"Error\":vtable.Error},index=None)"
   ]
  },
  {
   "cell_type": "markdown",
   "metadata": {},
   "source": [
    "# Big Table"
   ]
  },
  {
   "cell_type": "code",
   "execution_count": 16,
   "metadata": {},
   "outputs": [
    {
     "name": "stdout",
     "output_type": "stream",
     "text": [
      "\\begin{tabular}{lrrrrrrrrrrr}\n",
      "\\toprule\n",
      "Detector &    MJD &    ovq &    ovu &    ove &    ohq &    ohu &    ihq &    ihu &        pq &        pu &     he \\\\\n",
      "\\midrule\n",
      " Reticon &  47668 &  0.305 &  0.997 &  0.020 &  0.356 &  0.966 & -0.045 & -0.036 &  0.031145 &  0.039727 &  0.042 \\\\\n",
      " Reticon &  47672 &  0.611 &  1.057 &  0.020 &  0.447 &  1.091 &  0.072 &  0.097 & -0.049555 &  0.095136 &  0.029 \\\\\n",
      " Reticon &  47697 &  0.289 &  1.128 &  0.020 &  0.246 &  1.006 & -0.114 &  0.007 & -0.086243 & -0.033151 &  0.029 \\\\\n",
      " Reticon &  47714 &  0.437 &  0.863 &  0.021 &  0.300 &  0.940 & -0.106 & -0.050 & -0.067948 & -0.025028 &  0.037 \\\\\n",
      " Reticon &  47808 &  0.527 &  1.106 &  0.020 &  0.377 &  0.991 & -0.024 & -0.017 & -0.062784 & -0.031090 &  0.029 \\\\\n",
      " Reticon &  47822 &  0.174 &  0.826 &  0.020 &  0.297 &  0.828 & -0.094 & -0.181 &  0.009155 & -0.063080 &  0.019 \\\\\n",
      " Reticon &  47913 &  0.716 &  1.317 &  0.021 &  0.452 &  0.987 &  0.080 &  0.012 & -0.027512 & -0.107352 &  0.048 \\\\\n",
      " Reticon &  47918 &  0.547 &  1.056 &  0.020 &  0.495 &  0.900 &  0.099 & -0.099 &  0.014776 & -0.048933 &  0.024 \\\\\n",
      " Reticon &  47919 &  0.675 &  1.111 &  0.020 &  0.463 &  1.065 &  0.066 &  0.068 & -0.032719 &  0.073972 &  0.021 \\\\\n",
      " Reticon &  47920 &  0.762 &  1.027 &  0.021 &  0.586 &  1.064 &  0.178 &  0.066 &  0.009535 &  0.089998 &  0.034 \\\\\n",
      " Reticon &  47942 &  0.202 &  1.097 &  0.020 &  0.224 &  0.939 & -0.173 & -0.037 & -0.051179 & -0.040396 &  0.029 \\\\\n",
      " Reticon &  47950 &  0.353 &  1.387 &  0.020 &  0.424 &  1.144 &  0.029 &  0.162 &  0.018781 & -0.008165 &  0.026 \\\\\n",
      " Reticon &  47987 &  0.506 &  1.197 &  0.020 &  0.420 &  1.064 &  0.031 &  0.079 &  0.008648 & -0.028738 &  0.032 \\\\\n",
      " Reticon &  47988 &  0.558 &  1.155 &  0.020 &  0.404 &  1.089 &  0.019 &  0.099 & -0.041799 & -0.014761 &  0.021 \\\\\n",
      " Reticon &  47994 &  0.355 &  0.955 &  0.020 &  0.350 &  1.010 & -0.036 & -0.000 &  0.008366 &  0.034877 &  0.018 \\\\\n",
      " Reticon &  48003 &  0.341 &  1.367 &  0.021 &  0.366 &  1.122 & -0.012 &  0.098 &  0.000944 & -0.089647 &  0.059 \\\\\n",
      " Reticon &  48018 &  0.282 &  0.965 &  0.021 &  0.428 &  0.885 &  0.010 & -0.120 &  0.098465 & -0.039102 &  0.057 \\\\\n",
      " Reticon &  48047 &  0.556 &  0.977 &  0.025 &  0.501 &  1.008 &  0.106 &  0.035 &  0.120350 &  0.152345 &  0.119 \\\\\n",
      " Reticon &  48057 &  0.300 &  1.223 &  0.020 &  0.352 &  1.080 & -0.046 &  0.083 &  0.050802 &  0.016555 &  0.017 \\\\\n",
      " Reticon &  48088 &  0.331 &  1.203 &  0.020 &  0.251 &  1.038 & -0.132 &  0.053 & -0.083131 & -0.007387 &  0.019 \\\\\n",
      " Reticon &  48133 &  0.759 &  1.077 &  0.020 &  0.610 &  0.955 &  0.217 & -0.052 &  0.096197 & -0.048184 &  0.017 \\\\\n",
      " Reticon &  48150 &  0.302 &  1.153 &  0.020 &  0.310 &  1.014 & -0.075 &  0.037 &  0.022943 &  0.000568 &  0.014 \\\\\n",
      " Reticon &  48159 &  0.476 &  1.364 &  0.020 &  0.374 &  1.118 &  0.002 &  0.147 &  0.029271 & -0.038370 &  0.014 \\\\\n",
      " Reticon &  48224 &  0.472 &  0.962 &  0.020 &  0.408 &  0.905 &  0.005 & -0.074 & -0.036802 & -0.031800 &  0.015 \\\\\n",
      " Reticon &  48231 &  0.275 &  0.495 &  0.020 &  0.289 &  0.730 & -0.114 & -0.272 & -0.048901 &  0.081118 &  0.011 \\\\\n",
      " Reticon &  48235 &  0.099 &  1.225 &  0.020 &  0.269 &  0.967 & -0.160 & -0.022 &  0.026709 & -0.082691 &  0.012 \\\\\n",
      " Reticon &  48320 &  0.279 &  1.290 &  0.020 &  0.301 &  1.052 & -0.100 &  0.091 & -0.002513 & -0.002191 &  0.025 \\\\\n",
      " Reticon &  48444 &  0.523 &  1.286 &  0.021 &  0.612 &  1.078 & -0.041 &  0.073 & -0.118101 &  0.018672 &  0.035 \\\\\n",
      " Reticon &  48473 &  0.537 &  0.973 &  0.025 &  0.428 &  1.064 &  0.199 &  0.090 & -0.019405 &  0.079964 &  0.084 \\\\\n",
      " Reticon &  48516 &  0.596 &  1.150 &  0.020 &  0.279 &  0.853 &  0.054 &  0.075 & -0.022958 &  0.041201 &  0.014 \\\\\n",
      " Reticon &  48520 &  0.135 &  0.817 &  0.020 &  0.186 &  0.867 & -0.148 & -0.168 &  0.003249 &  0.009423 &  0.015 \\\\\n",
      " Reticon &  48522 &  0.024 &  1.021 &  0.020 &  0.478 &  1.144 & -0.227 & -0.121 & -0.007224 & -0.048777 &  0.012 \\\\\n",
      " Reticon &  48525 &  0.799 &  1.336 &  0.020 &  0.529 &  1.099 &  0.119 &  0.122 & -0.035168 & -0.028828 &  0.031 \\\\\n",
      " Reticon &  48526 &  0.843 &  1.348 &  0.020 &  0.523 &  1.037 &  0.199 &  0.131 & -0.036036 &  0.042384 &  0.014 \\\\\n",
      " Reticon &  48527 &  0.796 &  1.226 &  0.020 &  0.518 &  1.069 &  0.129 &  0.049 & -0.074417 & -0.015950 &  0.013 \\\\\n",
      " Reticon &  48528 &  0.669 &  1.047 &  0.020 &  0.487 &  0.938 &  0.147 &  0.081 & -0.025664 &  0.076579 &  0.013 \\\\\n",
      " Reticon &  49521 &  0.432 &  0.732 &  0.021 &  0.381 &  0.786 & -0.029 & -0.231 &  0.018438 & -0.067104 &  0.058 \\\\\n",
      " Reticon &  49530 &  0.551 &  0.790 &  0.021 &  0.499 &  0.793 &  0.083 & -0.256 &  0.042892 & -0.159447 &  0.125 \\\\\n",
      " Reticon &  49539 &  0.770 &  0.694 &  0.023 &  0.625 &  1.016 &  0.180 &  0.059 &  0.052607 &  0.288410 &  0.229 \\\\\n",
      " Reticon &  49573 &  0.222 &  0.974 &  0.021 &  0.328 &  0.887 & -0.074 & -0.125 & -0.002645 & -0.109088 &  0.038 \\\\\n",
      " Reticon &  49606 &  0.156 &  1.221 &  0.020 &  0.321 &  0.997 & -0.081 &  0.017 &  0.068968 & -0.066787 &  0.038 \\\\\n",
      " Reticon &  49636 &  0.208 &  1.059 &  0.020 &  0.180 &  0.954 & -0.204 & -0.044 & -0.038315 & -0.042711 &  0.025 \\\\\n",
      " Reticon &  49666 &  0.159 &  1.047 &  0.020 &  0.248 &  0.898 & -0.144 & -0.089 &  0.008996 & -0.082386 &  0.033 \\\\\n",
      " Reticon &  49690 &  0.142 &  0.901 &  0.020 &  0.235 &  0.818 & -0.178 & -0.167 &  0.018574 & -0.086993 &  0.031 \\\\\n",
      "     CCD &  49777 &  0.291 &  1.241 &  0.008 &  0.373 &  1.137 & -0.015 &  0.139 &  0.028607 &  0.022809 &  0.022 \\\\\n",
      "     CCD &  49779 &  0.308 &  1.140 &  0.007 &  0.328 &  1.053 & -0.063 &  0.049 & -0.019997 & -0.032033 &  0.013 \\\\\n",
      "     CCD &  49785 &  0.051 &  1.169 &  0.006 &  0.178 &  1.049 & -0.206 &  0.062 & -0.019265 &  0.009219 &  0.015 \\\\\n",
      "     CCD &  49788 &  0.285 &  1.577 &  0.007 &  0.345 &  1.145 & -0.040 &  0.181 &  0.024436 & -0.037939 &  0.022 \\\\\n",
      "     CCD &  49891 &  0.600 &  1.110 &  0.007 &  0.482 &  1.049 &  0.108 &  0.052 & -0.024839 & -0.000123 &  0.020 \\\\\n",
      "     CCD &  49913 &  0.339 &  1.247 &  0.010 &  0.402 &  1.080 &  0.020 &  0.084 &  0.014627 & -0.030337 &  0.012 \\\\\n",
      "     CCD &  49940 &  0.283 &  1.055 &  0.010 &  0.358 &  1.065 & -0.034 &  0.048 &  0.002146 &  0.007722 &  0.014 \\\\\n",
      "     CCD &  49965 &  0.482 &  1.381 &  0.010 &  0.385 &  1.117 &  0.011 &  0.122 & -0.007615 & -0.051272 &  0.021 \\\\\n",
      "     CCD &  49977 &  0.666 &  0.961 &  0.010 &  0.499 &  0.874 &  0.136 & -0.121 & -0.015419 & -0.021829 &  0.014 \\\\\n",
      "     CCD &  49992 &  0.210 &  1.049 &  0.010 &  0.277 &  0.964 & -0.104 & -0.063 &  0.000668 & -0.035497 &  0.011 \\\\\n",
      "     CCD &  50009 &  0.242 &  1.008 &  0.011 &  0.313 &  1.000 & -0.091 &  0.020 & -0.000580 &  0.019771 &  0.014 \\\\\n",
      "     CCD &  50036 &  0.382 &  1.181 &  0.010 &  0.362 &  1.040 & -0.007 &  0.027 & -0.004961 & -0.035095 &  0.012 \\\\\n",
      "     CCD &  50055 &  0.183 &  0.760 &  0.010 &  0.308 &  1.066 & -0.083 &  0.092 & -0.010522 & -0.024933 &  0.014 \\\\\n",
      "     CCD &  50733 &  0.312 &  1.077 &  0.010 &  0.345 &  1.007 & -0.046 &  0.017 &  0.006166 &  0.031848 &  0.011 \\\\\n",
      "     CCD &  50803 &  0.476 &  1.173 &  0.009 &  0.432 &  1.017 &  0.036 &  0.024 &  0.000046 & -0.046898 &  0.011 \\\\\n",
      "     CCD &  51010 &  0.411 &  1.045 &  0.010 &  0.340 &  0.959 & -0.041 & -0.023 & -0.031163 &  0.002986 &  0.012 \\\\\n",
      "     CCD &  51034 &  0.711 &  0.966 &  0.010 &  0.548 &  1.003 &  0.172 & -0.008 & -0.004100 &  0.038565 &  0.012 \\\\\n",
      "     CCD &  51066 &  0.390 &  1.203 &  0.010 &  0.455 &  1.073 &  0.077 &  0.072 &  0.041781 &  0.029547 &  0.012 \\\\\n",
      "     CCD &  51072 &  0.518 &  1.277 &  0.008 &  0.396 &  1.055 & -0.001 &  0.057 & -0.007637 & -0.018600 &  0.012 \\\\\n",
      "     CCD &  51177 &  0.265 &  1.069 &  0.009 &  0.323 &  1.088 & -0.047 &  0.076 &  0.034117 &  0.058523 &  0.023 \\\\\n",
      "     CCD &  52533 &  0.210 &  0.970 &  0.013 &  0.224 &  0.991 & -0.154 & -0.011 & -0.043737 &  0.000410 &  0.019 \\\\\n",
      "     CCD &  52534 &  0.089 &  0.949 &  0.013 &  0.302 &  1.007 & -0.092 &  0.003 &  0.094948 &  0.030368 &  0.022 \\\\\n",
      "     CCD &  52541 &  0.236 &  1.029 &  0.013 &  0.239 &  0.938 & -0.166 & -0.031 & -0.059022 & -0.040110 &  0.022 \\\\\n",
      "     CCD &  52542 &  0.237 &  1.031 &  0.013 &  0.260 &  1.000 & -0.101 &  0.035 &  0.039549 &  0.020614 &  0.028 \\\\\n",
      "     CCD &  52561 &  0.589 &  1.035 &  0.013 &  0.408 &  0.987 &  0.055 & -0.004 & -0.022901 & -0.001428 &  0.019 \\\\\n",
      "     CCD &  52562 &  0.487 &  1.117 &  0.013 &  0.420 &  0.996 &  0.022 &  0.015 & -0.024065 & -0.022112 &  0.017 \\\\\n",
      "     CCD &  52579 &  0.293 &  0.919 &  0.013 &  0.345 &  0.883 & -0.029 & -0.127 &  0.037455 & -0.085894 &  0.020 \\\\\n",
      "     CCD &  52583 &  0.176 &  0.953 &  0.013 &  0.242 &  0.996 & -0.120 &  0.014 &  0.039485 &  0.073103 &  0.056 \\\\\n",
      "     CCD &  52586 &  0.449 &  0.839 &  0.013 &  0.374 &  0.876 & -0.015 & -0.128 &  0.020628 & -0.054927 &  0.017 \\\\\n",
      "\\bottomrule\n",
      "\\end{tabular}\n",
      "\n"
     ]
    }
   ],
   "source": [
    "dformat = lambda dlist: [\"Reticon\" if d == 'ret' else \"CCD\"    for d in dlist]\n",
    "bigtable = pd.DataFrame({\"Detector\":dformat(vtable.Detector),\n",
    "                        \"MJD\":htable.MJD,\n",
    "                        \"ovq\":vtable.q,\n",
    "                        \"ovu\":vtable.u,\n",
    "                        \"ove\":vtable.Error,\n",
    "                        \"ohq\":htable.oq,\n",
    "                        \"ohu\":htable.ou,\n",
    "                        \"ihq\":htable.iq,\n",
    "                        \"ihu\":htable.iu,\n",
    "                        \"pq\":htable.pq,\n",
    "                        \"pu\":htable.pu,\n",
    "                        \"he\":htable.Error,}, index=None)\n",
    "bigtable.to_csv(\"C:/Users/Keyan/Desktop/Science/Data/P-Cygni/Data/bigtable.txt\")\n",
    "print(bigtable.to_latex(index=False))"
   ]
  },
  {
   "cell_type": "code",
   "execution_count": null,
   "metadata": {},
   "outputs": [],
   "source": []
  },
  {
   "cell_type": "code",
   "execution_count": null,
   "metadata": {},
   "outputs": [],
   "source": []
  },
  {
   "cell_type": "code",
   "execution_count": null,
   "metadata": {},
   "outputs": [],
   "source": []
  }
 ],
 "metadata": {
  "kernelspec": {
   "display_name": "Python 3",
   "language": "python",
   "name": "python3"
  },
  "language_info": {
   "codemirror_mode": {
    "name": "ipython",
    "version": 3
   },
   "file_extension": ".py",
   "mimetype": "text/x-python",
   "name": "python",
   "nbconvert_exporter": "python",
   "pygments_lexer": "ipython3",
   "version": "3.6.5"
  }
 },
 "nbformat": 4,
 "nbformat_minor": 2
}
